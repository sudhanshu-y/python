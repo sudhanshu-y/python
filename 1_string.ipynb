{
 "cells": [
  {
   "cell_type": "markdown",
   "id": "7f4cc35e",
   "metadata": {},
   "source": [
    "# Data Structures\n",
    "    Built-in data structures\t: Strings, Lists, Dictionaries, Tuples, Sets\n",
    "    User defined data structures\t: Stacks, Queues, Trees, Linked Lists, Graphs"
   ]
  },
  {
   "cell_type": "markdown",
   "id": "f0fb3805",
   "metadata": {},
   "source": [
    "# Built-in data structures"
   ]
  },
  {
   "cell_type": "markdown",
   "id": "d4d343e7",
   "metadata": {},
   "source": [
    "## Strings\n",
    ">\\n represents a new line\n",
    "\n",
    ">\\t represents a tab\n",
    "\n",
    ">str(x) is used to convert the number/char x to a string, so that it can be used for concatenation.\n",
    "\n",
    ">Some characters can't be directly included in a string. For instance, double quotes can't be directly included in a double quote string. Characters like these must be escaped by placing a backslash before them (\"\\ \")\n",
    "\n",
    ">backslash is not part of the string, so it doesn't contribute to its length. Ex: '\\n' ⇒ len = 1\n",
    "\n",
    ">strings are immutable. String's char can not assigned as: s[2]='c' ==> This will throw exception. Instead break the string, add char and form new string. Note: Entire new string can be assigned to same string variable."
   ]
  },
  {
   "cell_type": "code",
   "execution_count": 1,
   "id": "2c22c007",
   "metadata": {},
   "outputs": [
    {
     "name": "stdout",
     "output_type": "stream",
     "text": [
      "Brian's mother: He's not an angel. He's a very naughty boy!\n"
     ]
    }
   ],
   "source": [
    "print('Brian\\'s mother: He\\'s not an angel. He\\'s a very naughty boy!')"
   ]
  },
  {
   "cell_type": "markdown",
   "id": "53226072",
   "metadata": {},
   "source": [
    "### String Operations\n",
    "    in     : operator can be used to check if a string is part of another string\n",
    "    not in : operator can be used to check if a string is not part of another string"
   ]
  },
  {
   "cell_type": "code",
   "execution_count": 2,
   "id": "04f2a3f7",
   "metadata": {},
   "outputs": [
    {
     "data": {
      "text/plain": [
       "True"
      ]
     },
     "execution_count": 2,
     "metadata": {},
     "output_type": "execute_result"
    }
   ],
   "source": [
    "'ok' in 'this is ok' "
   ]
  },
  {
   "cell_type": "code",
   "execution_count": 3,
   "id": "ee8490ca",
   "metadata": {},
   "outputs": [
    {
     "data": {
      "text/plain": [
       "False"
      ]
     },
     "execution_count": 3,
     "metadata": {},
     "output_type": "execute_result"
    }
   ],
   "source": [
    "'ok' not in 'this is ok' "
   ]
  },
  {
   "cell_type": "markdown",
   "id": "7117c869",
   "metadata": {},
   "source": [
    "### String functions"
   ]
  },
  {
   "cell_type": "code",
   "execution_count": 4,
   "id": "625a24c7",
   "metadata": {},
   "outputs": [
    {
     "name": "stdout",
     "output_type": "stream",
     "text": [
      "spam, eggs, ham\n"
     ]
    }
   ],
   "source": [
    "print(\", \".join([\"spam\", \"eggs\", \"ham\"]))"
   ]
  },
  {
   "cell_type": "code",
   "execution_count": 5,
   "id": "e416b447",
   "metadata": {
    "scrolled": true
   },
   "outputs": [
    {
     "name": "stdout",
     "output_type": "stream",
     "text": [
      "['spam', 'eggs', 'ham']\n"
     ]
    }
   ],
   "source": [
    "print(\"spam, eggs, ham\".split(\", \"))"
   ]
  },
  {
   "cell_type": "code",
   "execution_count": 6,
   "id": "c42b8664",
   "metadata": {},
   "outputs": [
    {
     "name": "stdout",
     "output_type": "stream",
     "text": [
      "Hello world\n"
     ]
    }
   ],
   "source": [
    "#str.replace(old, new) : replaces all occurrences of old with new.\n",
    "print(\"Hello ME\".replace(\"ME\", \"world\"))"
   ]
  },
  {
   "cell_type": "code",
   "execution_count": 7,
   "id": "ece5c61a",
   "metadata": {},
   "outputs": [
    {
     "name": "stdout",
     "output_type": "stream",
     "text": [
      "True\n"
     ]
    }
   ],
   "source": [
    "#str.startswith(str2) : returns True if str starts with str2\n",
    "print(\"This is a sentence.\".startswith(\"This\"))"
   ]
  },
  {
   "cell_type": "code",
   "execution_count": 8,
   "id": "d949d6e9",
   "metadata": {},
   "outputs": [
    {
     "name": "stdout",
     "output_type": "stream",
     "text": [
      "True\n"
     ]
    }
   ],
   "source": [
    "#str.endswith(str2) : returns True if str ends with str2\n",
    "print(\"This is a sentence.\".endswith(\"sentence.\"))"
   ]
  },
  {
   "cell_type": "code",
   "execution_count": 9,
   "id": "bcdf732b",
   "metadata": {},
   "outputs": [
    {
     "name": "stdout",
     "output_type": "stream",
     "text": [
      "THIS IS A SENTENCE.\n"
     ]
    }
   ],
   "source": [
    "print(\"This is a sentence.\".upper())"
   ]
  },
  {
   "cell_type": "code",
   "execution_count": 10,
   "id": "d7c3831d",
   "metadata": {},
   "outputs": [
    {
     "name": "stdout",
     "output_type": "stream",
     "text": [
      "an all caps sentence\n"
     ]
    }
   ],
   "source": [
    "print(\"AN ALL CAPS SENTENCE\".lower())"
   ]
  },
  {
   "cell_type": "code",
   "execution_count": 11,
   "id": "03e72c64",
   "metadata": {},
   "outputs": [
    {
     "name": "stdout",
     "output_type": "stream",
     "text": [
      "tHIS IS A SENTENCE.\n"
     ]
    }
   ],
   "source": [
    "print(\"This is a sentence.\".swapcase())"
   ]
  },
  {
   "cell_type": "code",
   "execution_count": 12,
   "id": "5aae538d",
   "metadata": {
    "scrolled": true
   },
   "outputs": [
    {
     "name": "stdout",
     "output_type": "stream",
     "text": [
      "This Is A Sentence.\n"
     ]
    }
   ],
   "source": [
    "print(\"This is a sentence.\".title()) # every 1st letter if world will be capitalize"
   ]
  },
  {
   "cell_type": "code",
   "execution_count": 13,
   "id": "bfb4fafc",
   "metadata": {},
   "outputs": [
    {
     "name": "stdout",
     "output_type": "stream",
     "text": [
      "An all caps sentence. this is all small letter\n"
     ]
    }
   ],
   "source": [
    "print(\"AN ALL CAPS SENTENCE. this is all small letter\".capitalize()) # 1st char of sentence will be capitalize"
   ]
  },
  {
   "cell_type": "code",
   "execution_count": 14,
   "id": "321892d6",
   "metadata": {
    "scrolled": true
   },
   "outputs": [
    {
     "name": "stdout",
     "output_type": "stream",
     "text": [
      "True\n",
      "False\n",
      "True\n",
      "False\n",
      "True\n",
      "False\n",
      "True\n",
      "False\n"
     ]
    }
   ],
   "source": [
    "print('THIS IS A SENTENCE.'.isupper())\n",
    "print('an all caps sentence'.isupper())\n",
    "\n",
    "print('an all caps sentence'.islower())\n",
    "print('An all caps sentence'.islower())\n",
    "\n",
    "print('This Is A Sentence.'.istitle())\n",
    "print('This is a sentence.'.istitle())\n",
    "\n",
    "print('12'.isdecimal())\n",
    "print('12E'.isdecimal())"
   ]
  },
  {
   "cell_type": "code",
   "execution_count": 15,
   "id": "37783805",
   "metadata": {
    "scrolled": true
   },
   "outputs": [
    {
     "name": "stdout",
     "output_type": "stream",
     "text": [
      "True\n",
      "False\n",
      "True\n",
      "True\n"
     ]
    }
   ],
   "source": [
    "print(\"travel\".isalpha())\n",
    "print(\"travel2\".isalpha())\n",
    "print(\"travel2\".isalnum())\n",
    "print(\"1234\".isdecimal())"
   ]
  },
  {
   "cell_type": "code",
   "execution_count": 16,
   "id": "44eb7805",
   "metadata": {},
   "outputs": [
    {
     "data": {
      "text/plain": [
       "21"
      ]
     },
     "execution_count": 16,
     "metadata": {},
     "output_type": "execute_result"
    }
   ],
   "source": [
    "'this thing!, this is very amezing'.find('very')"
   ]
  },
  {
   "cell_type": "code",
   "execution_count": 17,
   "id": "183a1d78",
   "metadata": {},
   "outputs": [
    {
     "data": {
      "text/plain": [
       "2"
      ]
     },
     "execution_count": 17,
     "metadata": {},
     "output_type": "execute_result"
    }
   ],
   "source": [
    "#string.count(substring,start,end): Return the number of (non-overlapping) occurrences of substring sub in string\n",
    "'this thing!, this is very amezing'.count('this')"
   ]
  },
  {
   "cell_type": "code",
   "execution_count": 18,
   "id": "cd2cb7a9",
   "metadata": {},
   "outputs": [
    {
     "data": {
      "text/plain": [
       "1"
      ]
     },
     "execution_count": 18,
     "metadata": {},
     "output_type": "execute_result"
    }
   ],
   "source": [
    "'this thing!, this is very amezing'.count('this',0,10)"
   ]
  },
  {
   "cell_type": "code",
   "execution_count": 19,
   "id": "91fc48e5",
   "metadata": {},
   "outputs": [
    {
     "data": {
      "text/plain": [
       "16"
      ]
     },
     "execution_count": 19,
     "metadata": {},
     "output_type": "execute_result"
    }
   ],
   "source": [
    "'First thing is, this thing!, this is very amezing'.find('this')"
   ]
  },
  {
   "cell_type": "code",
   "execution_count": 20,
   "id": "3857ea29",
   "metadata": {},
   "outputs": [
    {
     "data": {
      "text/plain": [
       "16"
      ]
     },
     "execution_count": 20,
     "metadata": {},
     "output_type": "execute_result"
    }
   ],
   "source": [
    "'First thing is, this thing!, this is very amezing'.index('this')"
   ]
  },
  {
   "cell_type": "code",
   "execution_count": 21,
   "id": "308daae9",
   "metadata": {},
   "outputs": [
    {
     "data": {
      "text/plain": [
       "'H'"
      ]
     },
     "execution_count": 21,
     "metadata": {},
     "output_type": "execute_result"
    }
   ],
   "source": [
    "min('Hhello')"
   ]
  },
  {
   "cell_type": "code",
   "execution_count": 22,
   "id": "4a20fee7",
   "metadata": {},
   "outputs": [
    {
     "data": {
      "text/plain": [
       "' '"
      ]
     },
     "execution_count": 22,
     "metadata": {},
     "output_type": "execute_result"
    }
   ],
   "source": [
    "min('Hhe llo')"
   ]
  },
  {
   "cell_type": "code",
   "execution_count": 23,
   "id": "1b27408a",
   "metadata": {},
   "outputs": [
    {
     "data": {
      "text/plain": [
       "'o'"
      ]
     },
     "execution_count": 23,
     "metadata": {},
     "output_type": "execute_result"
    }
   ],
   "source": [
    "max('HellOo')"
   ]
  },
  {
   "cell_type": "code",
   "execution_count": 24,
   "id": "b803b785",
   "metadata": {},
   "outputs": [
    {
     "data": {
      "text/plain": [
       "5"
      ]
     },
     "execution_count": 24,
     "metadata": {},
     "output_type": "execute_result"
    }
   ],
   "source": [
    "len('Hello')"
   ]
  },
  {
   "cell_type": "code",
   "execution_count": 25,
   "id": "5d08780c",
   "metadata": {},
   "outputs": [
    {
     "name": "stdout",
     "output_type": "stream",
     "text": [
      "-------Hello--------\n",
      "Hello---------------\n",
      "---------------Hello\n"
     ]
    }
   ],
   "source": [
    "print('Hello'.center(20,'-'))\n",
    "print('Hello'.ljust(20,'-'))\n",
    "print('Hello'.rjust(20,'-'))"
   ]
  },
  {
   "attachments": {
    "image.png": {
     "image/png": "[encoded data removed]"
    }
   },
   "cell_type": "markdown",
   "id": "50961797",
   "metadata": {},
   "source": [
    "## String Slices\n",
    "\n",
    "![image.png](attachment:image.png)\n",
    "\n",
    "    string_name[beginning: end : step] : default setp=1\n",
    "    \n",
    "    s[1:4] is 'ell' -- chars starting at index 1 and extending up to but not including index 4\n",
    "    s[1:] is 'ello' -- omitting either index defaults to the start or end of the string\n",
    "    s[:] is 'Hello' -- omitting both always gives us a copy of the whole string\n",
    "    s[1:100] is 'ello' -- an index that is too big is truncated down to the string length\n",
    "\n",
    "    s[-1] is 'o' -- last char (1st from the end)\n",
    "    s[-4] is 'e' -- 4th from the end\n",
    "    s[:-3] is 'He' -- going up to but not including the last 3 chars.\n",
    "    s[-3:] is 'llo' -- starting with the 3rd char from the end and extending to the end of the string.\n",
    "\n",
    ">s[:n] + s[n:] == s"
   ]
  },
  {
   "cell_type": "markdown",
   "id": "d1a7b044",
   "metadata": {},
   "source": [
    "### Reversing string"
   ]
  },
  {
   "cell_type": "code",
   "execution_count": 26,
   "id": "efe916a3",
   "metadata": {},
   "outputs": [
    {
     "data": {
      "text/plain": [
       "'olleH'"
      ]
     },
     "execution_count": 26,
     "metadata": {},
     "output_type": "execute_result"
    }
   ],
   "source": [
    "str1 = 'Hello'\n",
    "str1[::-1]          # string_name[start:end:step]"
   ]
  },
  {
   "cell_type": "markdown",
   "id": "7b9033dc",
   "metadata": {},
   "source": [
    "# Miscellaneous in String"
   ]
  },
  {
   "cell_type": "code",
   "execution_count": 27,
   "id": "d43672c9",
   "metadata": {},
   "outputs": [
    {
     "name": "stdout",
     "output_type": "stream",
     "text": [
      "2542255646064\n",
      "2542255646064\n",
      "2542255646064\n",
      "2542255867504\n"
     ]
    }
   ],
   "source": [
    "str1 = 'Hello'\n",
    "str2 = 'Hello'\n",
    "print(id(str1))\n",
    "print(id(str2)) # Both id will be same for memory optimization purpose\n",
    "\n",
    "str2 += 'World!'\n",
    "print(id(str1))\n",
    "print(id(str2)) # Both id will be different now"
   ]
  },
  {
   "cell_type": "code",
   "execution_count": 28,
   "id": "fdc5f435",
   "metadata": {},
   "outputs": [
    {
     "data": {
      "text/plain": [
       "'ABCDEFGHIJKLMNOPQRSTUVWXYZ'"
      ]
     },
     "execution_count": 28,
     "metadata": {},
     "output_type": "execute_result"
    }
   ],
   "source": [
    "''.join([chr(i) for i in range(65,(65+26))])"
   ]
  },
  {
   "cell_type": "code",
   "execution_count": 29,
   "id": "9e48d365",
   "metadata": {},
   "outputs": [
    {
     "data": {
      "text/plain": [
       "'abcdefghijklmnopqrstuvwxyz'"
      ]
     },
     "execution_count": 29,
     "metadata": {},
     "output_type": "execute_result"
    }
   ],
   "source": [
    "''.join([chr(i) for i in range(97,(97+26))])"
   ]
  },
  {
   "cell_type": "markdown",
   "id": "988d6181",
   "metadata": {},
   "source": [
    "# String Codes"
   ]
  },
  {
   "cell_type": "markdown",
   "id": "6cbf78aa",
   "metadata": {},
   "source": [
    "## Problem: count latters and words in given text"
   ]
  },
  {
   "cell_type": "code",
   "execution_count": 30,
   "id": "57625e2a",
   "metadata": {},
   "outputs": [
    {
     "name": "stdout",
     "output_type": "stream",
     "text": [
      "letterCount= 16\n",
      "wordCount= 4\n"
     ]
    }
   ],
   "source": [
    "text = 'this is my sentence'\n",
    "letterCount = len(text)-text.count(\" \")\n",
    "wordCount = len(text.split())\n",
    "print('letterCount=',letterCount)\n",
    "print('wordCount=',wordCount)"
   ]
  },
  {
   "cell_type": "markdown",
   "id": "208abb9a",
   "metadata": {},
   "source": [
    "## Reverse String\n",
    "    Write a function that reverses a string. The input string is given as an array of characters s.\n",
    "    You must do this by modifying the input array in-place with O(1) extra memory.\n",
    "\n",
    "    Example 1:\n",
    "    Input: s = [\"h\",\"e\",\"l\",\"l\",\"o\"]\n",
    "    Output: [\"o\",\"l\",\"l\",\"e\",\"h\"]\n",
    "\n",
    "    Example 2:\n",
    "    Input: s = [\"H\",\"a\",\"n\",\"n\",\"a\",\"h\"]\n",
    "    Output: [\"h\",\"a\",\"n\",\"n\",\"a\",\"H\"]"
   ]
  },
  {
   "cell_type": "code",
   "execution_count": 31,
   "id": "6ff72f57",
   "metadata": {},
   "outputs": [
    {
     "name": "stdout",
     "output_type": "stream",
     "text": [
      "['d', 'c', 'b', 'a']\n"
     ]
    }
   ],
   "source": [
    "def reverseString(s):\n",
    "    \"\"\"\n",
    "    :type s: List[str]\n",
    "    :rtype: None Do not return anything, modify s in-place instead.\n",
    "    \"\"\"\n",
    "    for i in range(len(s)//2):\n",
    "        s[i], s[len(s)-1 - i] = s[len(s)-1 - i], s[i]\n",
    "    \n",
    "    print(s)\n",
    "\n",
    "reverseString([\"a\", \"b\", \"c\", \"d\"])"
   ]
  },
  {
   "cell_type": "markdown",
   "id": "5ae6c383",
   "metadata": {},
   "source": [
    "## Problem: check for anagram string"
   ]
  },
  {
   "cell_type": "code",
   "execution_count": 32,
   "id": "c2fbb481",
   "metadata": {},
   "outputs": [
    {
     "name": "stdout",
     "output_type": "stream",
     "text": [
      "anagram\n",
      "anagram\n"
     ]
    }
   ],
   "source": [
    "str1, str2= 'silent','listen'\n",
    "\n",
    "#O(nlogn)\n",
    "if sorted(str1) == sorted(str2):\n",
    "    print('anagram')\n",
    "else:\n",
    "    print('not anagram')\n",
    "\n",
    "#O(n)    \n",
    "from collections import Counter\n",
    "\n",
    "if Counter(str1) == Counter(str2):\n",
    "    print('anagram')\n",
    "else:\n",
    "    print('not anagram')    "
   ]
  },
  {
   "cell_type": "markdown",
   "id": "3a480560",
   "metadata": {},
   "source": [
    "# Uncommon Words from Two Sentences"
   ]
  },
  {
   "cell_type": "code",
   "execution_count": 33,
   "id": "86407e41",
   "metadata": {},
   "outputs": [
    {
     "name": "stdout",
     "output_type": "stream",
     "text": [
      "{'apple', 'this', 'sweet', 'is'}\n",
      "{'apple', 'sour', 'this', 'is'}\n"
     ]
    },
    {
     "data": {
      "text/plain": [
       "['sour', 'sweet']"
      ]
     },
     "execution_count": 33,
     "metadata": {},
     "output_type": "execute_result"
    }
   ],
   "source": [
    "s1 = \"this apple is sweet\".split()\n",
    "s2 = \"this apple is sour\".split()\n",
    "\n",
    "s1 = set(s1)\n",
    "s2 = set(s2)\n",
    "print(s1)\n",
    "print(s2)\n",
    "\n",
    "list(s1^s2)"
   ]
  },
  {
   "cell_type": "markdown",
   "id": "87261264",
   "metadata": {},
   "source": [
    "# Uncommon Words from Two Sentences\n",
    "A sentence is a string of single-space separated words where each word consists only of lowercase letters.\n",
    "A word is uncommon if it appears exactly once in one of the sentences, and does not appear in the other sentence.\n",
    "Given two sentences s1 and s2, return a list of all the uncommon words. You may return the answer in any order.\n",
    "\n",
    "### Example 1:\n",
    "Input: s1 = \"this apple is sweet\", s2 = \"this apple is sour\"\n",
    "\n",
    "Output: [\"sweet\",\"sour\"]\n",
    "\n",
    "### Example 2:\n",
    "Input: s1 = \"apple apple\", s2 = \"banana\"\n",
    "\n",
    "Output: [\"banana\"]"
   ]
  },
  {
   "cell_type": "code",
   "execution_count": 34,
   "id": "12bef71f",
   "metadata": {},
   "outputs": [
    {
     "name": "stdout",
     "output_type": "stream",
     "text": [
      "['banana']\n"
     ]
    }
   ],
   "source": [
    "def uncommon_words(s1, s2):\n",
    "    words1 = s1.split()\n",
    "    words2 = s2.split()\n",
    "    \n",
    "    freq = {}\n",
    "    uncommon = []\n",
    "    \n",
    "    for word in words1:\n",
    "        freq[word] = freq.get(word, 0) + 1\n",
    "    \n",
    "    for word in words2:\n",
    "        freq[word] = freq.get(word, 0) + 1\n",
    "    \n",
    "    for word, count in freq.items():\n",
    "        if count == 1:\n",
    "            uncommon.append(word)\n",
    "    \n",
    "    return uncommon\n",
    "\n",
    "print(uncommon_words( \"apple apple\", \"banana\"))"
   ]
  }
 ],
 "metadata": {
  "kernelspec": {
   "display_name": "Python 3 (ipykernel)",
   "language": "python",
   "name": "python3"
  },
  "language_info": {
   "codemirror_mode": {
    "name": "ipython",
    "version": 3
   },
   "file_extension": ".py",
   "mimetype": "text/x-python",
   "name": "python",
   "nbconvert_exporter": "python",
   "pygments_lexer": "ipython3",
   "version": "3.9.13"
  }
 },
 "nbformat": 4,
 "nbformat_minor": 5
}
