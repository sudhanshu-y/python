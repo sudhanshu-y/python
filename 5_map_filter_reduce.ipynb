{
 "cells": [
  {
   "cell_type": "markdown",
   "id": "abed3bdc",
   "metadata": {},
   "source": [
    "    map(func, *iterables): passes each element in the iterable through a function and returns the result of all elements having passed through the function"
   ]
  },
  {
   "cell_type": "code",
   "execution_count": 1,
   "id": "b6f856cd",
   "metadata": {},
   "outputs": [
    {
     "name": "stdout",
     "output_type": "stream",
     "text": [
      "<map object at 0x000001E5CA933220>\n",
      "[2, 4, 6, 8, 10]\n"
     ]
    }
   ],
   "source": [
    "# Example 1: Doubling each element in a list\n",
    "numbers = [1, 2, 3, 4, 5]\n",
    "\n",
    "doubled = map(lambda x: x * 2, numbers)\n",
    "\n",
    "print(doubled) # map object\n",
    "print(list(doubled)) "
   ]
  },
  {
   "cell_type": "code",
   "execution_count": 2,
   "id": "bfee03fb",
   "metadata": {},
   "outputs": [
    {
     "name": "stdout",
     "output_type": "stream",
     "text": [
      "['HELLO', 'WORLD', 'PYTHON']\n"
     ]
    }
   ],
   "source": [
    "# Example 2: Converting list of strings to uppercase\n",
    "words = [\"hello\", \"world\", \"python\"]\n",
    "\n",
    "uppercase_words = map(str.upper, words)\n",
    "\n",
    "print(list(uppercase_words))"
   ]
  },
  {
   "cell_type": "markdown",
   "id": "4e4ecf5b",
   "metadata": {},
   "source": [
    "    filter(func, iterable): first of all, requires the function to return boolean values (true or false) and then passes each element in the iterable through the function, \"filtering\" away those that are false."
   ]
  },
  {
   "cell_type": "code",
   "execution_count": 3,
   "id": "dd9a9f67",
   "metadata": {},
   "outputs": [
    {
     "name": "stdout",
     "output_type": "stream",
     "text": [
      "<filter object at 0x000001E5CA9260D0>\n",
      "[2, 4, 6, 8, 10]\n"
     ]
    }
   ],
   "source": [
    "# Example 1: Filtering even numbers\n",
    "numbers = [1, 2, 3, 4, 5, 6, 7, 8, 9, 10]\n",
    "\n",
    "even_numbers = filter(lambda x: x % 2 == 0, numbers)\n",
    "\n",
    "print(even_numbers) # filter object\n",
    "print(list(even_numbers))"
   ]
  },
  {
   "cell_type": "code",
   "execution_count": 4,
   "id": "0f5760b4",
   "metadata": {},
   "outputs": [
    {
     "name": "stdout",
     "output_type": "stream",
     "text": [
      "['John', 'Jane', 'Jack']\n"
     ]
    }
   ],
   "source": [
    "# Example 2: Filtering names starting with 'J'\n",
    "names = [\"John\", \"Alice\", \"Bob\", \"Jane\", \"Jack\"]\n",
    "\n",
    "j_names = filter(lambda x: x.startswith('J'), names)\n",
    "\n",
    "print(list(j_names)) "
   ]
  },
  {
   "cell_type": "markdown",
   "id": "6b70fda0",
   "metadata": {},
   "source": [
    "    reduce(function, iterable, initializer): reduce applies a rolling computation to sequential pairs of values in a list, ultimately returning a single result."
   ]
  },
  {
   "cell_type": "code",
   "execution_count": 5,
   "id": "d58bcf16",
   "metadata": {},
   "outputs": [
    {
     "name": "stdout",
     "output_type": "stream",
     "text": [
      "15\n"
     ]
    }
   ],
   "source": [
    "from functools import reduce\n",
    "\n",
    "# Example 1: Summing up a list of numbers\n",
    "numbers = [1, 2, 3, 4, 5]\n",
    "\n",
    "sum_result = reduce(lambda x, y: x + y, numbers)\n",
    "\n",
    "print(sum_result)"
   ]
  },
  {
   "cell_type": "code",
   "execution_count": 6,
   "id": "a36a0a9f",
   "metadata": {},
   "outputs": [
    {
     "name": "stdout",
     "output_type": "stream",
     "text": [
      "9\n"
     ]
    }
   ],
   "source": [
    "# Example 2: Finding maximum element in a list\n",
    "numbers = [5, 8, 1, 3, 9, 2]\n",
    "\n",
    "max_number = reduce(lambda x, y: x if x > y else y, numbers)\n",
    "\n",
    "print(max_number)"
   ]
  },
  {
   "cell_type": "code",
   "execution_count": 7,
   "id": "a134cc77",
   "metadata": {},
   "outputs": [
    {
     "name": "stdout",
     "output_type": "stream",
     "text": [
      "120\n"
     ]
    }
   ],
   "source": [
    "# List of numbers\n",
    "numbers = [1, 2, 3, 4, 5]\n",
    "\n",
    "# Finding the product of all numbers\n",
    "product = reduce(lambda x, y: x * y, numbers)\n",
    "\n",
    "print(product)  # Output: 120 (1*2*3*4*5)"
   ]
  },
  {
   "cell_type": "code",
   "execution_count": 8,
   "id": "0741efe6",
   "metadata": {},
   "outputs": [
    {
     "name": "stdout",
     "output_type": "stream",
     "text": [
      "Hello world!\n"
     ]
    }
   ],
   "source": [
    "# List of strings\n",
    "strings = [\"Hello\", \" \", \"world\", \"!\"]\n",
    "\n",
    "# Concatenating all strings\n",
    "concatenated_string = reduce(lambda x, y: x + y, strings)\n",
    "print(concatenated_string)  # Output: Hello world!"
   ]
  },
  {
   "cell_type": "code",
   "execution_count": 9,
   "id": "7f212fe0",
   "metadata": {},
   "outputs": [
    {
     "name": "stdout",
     "output_type": "stream",
     "text": [
      "[1, 2, 3, 4, 5, 6]\n"
     ]
    }
   ],
   "source": [
    "# List of lists\n",
    "nested_lists = [[1, 2], [3, 4], [5, 6]]\n",
    "\n",
    "# Flattening the list\n",
    "flattened_list = reduce(lambda x, y: x + y, nested_lists)\n",
    "\n",
    "print(flattened_list)  # Output: [1, 2, 3, 4, 5, 6]"
   ]
  },
  {
   "cell_type": "code",
   "execution_count": 10,
   "id": "feb3c6b3",
   "metadata": {},
   "outputs": [
    {
     "name": "stdout",
     "output_type": "stream",
     "text": [
      "120\n"
     ]
    }
   ],
   "source": [
    "# Function to calculate factorial\n",
    "def factorial(n):\n",
    "    return reduce(lambda x, y: x * y, range(1, n+1))\n",
    "\n",
    "# Finding factorial of a number\n",
    "print(factorial(5))  # Output: 120 (5! = 5*4*3*2*1)"
   ]
  },
  {
   "cell_type": "code",
   "execution_count": null,
   "id": "79a0be09",
   "metadata": {},
   "outputs": [],
   "source": []
  }
 ],
 "metadata": {
  "kernelspec": {
   "display_name": "Python 3 (ipykernel)",
   "language": "python",
   "name": "python3"
  },
  "language_info": {
   "codemirror_mode": {
    "name": "ipython",
    "version": 3
   },
   "file_extension": ".py",
   "mimetype": "text/x-python",
   "name": "python",
   "nbconvert_exporter": "python",
   "pygments_lexer": "ipython3",
   "version": "3.9.13"
  }
 },
 "nbformat": 4,
 "nbformat_minor": 5
}
