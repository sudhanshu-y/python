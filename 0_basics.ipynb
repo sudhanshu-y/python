{
 "cells": [
  {
   "cell_type": "markdown",
   "id": "7521db7c",
   "metadata": {},
   "source": [
    "# python"
   ]
  },
  {
   "cell_type": "code",
   "execution_count": 1,
   "id": "6162f8e3",
   "metadata": {
    "scrolled": true
   },
   "outputs": [
    {
     "name": "stdout",
     "output_type": "stream",
     "text": [
      "hello to python world\n"
     ]
    }
   ],
   "source": [
    "print('hello to python world')"
   ]
  },
  {
   "cell_type": "code",
   "execution_count": 2,
   "id": "b5fc3339",
   "metadata": {},
   "outputs": [
    {
     "name": "stdout",
     "output_type": "stream",
     "text": [
      "This is \n",
      "multi line \n",
      "text\n"
     ]
    }
   ],
   "source": [
    "print('''This is \n",
    "multi line \n",
    "text''')"
   ]
  },
  {
   "cell_type": "code",
   "execution_count": 3,
   "id": "22e56c1f",
   "metadata": {},
   "outputs": [
    {
     "name": "stdout",
     "output_type": "stream",
     "text": [
      "This is \n",
      "also multi line \n",
      "text\n"
     ]
    }
   ],
   "source": [
    "print(\"\"\"This is \n",
    "also multi line \n",
    "text\"\"\")"
   ]
  },
  {
   "cell_type": "code",
   "execution_count": 4,
   "id": "0a0073c3",
   "metadata": {},
   "outputs": [
    {
     "data": {
      "text/plain": [
       "float"
      ]
     },
     "execution_count": 4,
     "metadata": {},
     "output_type": "execute_result"
    }
   ],
   "source": [
    "type(12.3645)"
   ]
  },
  {
   "cell_type": "code",
   "execution_count": 5,
   "id": "8abf8a60",
   "metadata": {},
   "outputs": [
    {
     "data": {
      "text/plain": [
       "str"
      ]
     },
     "execution_count": 5,
     "metadata": {},
     "output_type": "execute_result"
    }
   ],
   "source": [
    "type('Anshu')"
   ]
  },
  {
   "cell_type": "code",
   "execution_count": 6,
   "id": "e23edbf1",
   "metadata": {},
   "outputs": [
    {
     "data": {
      "text/plain": [
       "-6"
      ]
     },
     "execution_count": 6,
     "metadata": {},
     "output_type": "execute_result"
    }
   ],
   "source": [
    "min(4,-6,0)"
   ]
  },
  {
   "cell_type": "code",
   "execution_count": 7,
   "id": "7de007df",
   "metadata": {},
   "outputs": [
    {
     "data": {
      "text/plain": [
       "4"
      ]
     },
     "execution_count": 7,
     "metadata": {},
     "output_type": "execute_result"
    }
   ],
   "source": [
    "max(4,-6,0)"
   ]
  },
  {
   "cell_type": "code",
   "execution_count": 8,
   "id": "b07c84cf",
   "metadata": {},
   "outputs": [
    {
     "data": {
      "text/plain": [
       "32"
      ]
     },
     "execution_count": 8,
     "metadata": {},
     "output_type": "execute_result"
    }
   ],
   "source": [
    "abs(-32)"
   ]
  },
  {
   "cell_type": "code",
   "execution_count": 9,
   "id": "4fd2b67d",
   "metadata": {},
   "outputs": [
    {
     "name": "stdout",
     "output_type": "stream",
     "text": [
      "12\n",
      "12\n",
      "13\n",
      "-12\n",
      "-12\n",
      "-13\n"
     ]
    }
   ],
   "source": [
    "# round to closest int\n",
    "print(round(12))\n",
    "print(round(12.4))\n",
    "print(round(12.6))\n",
    "\n",
    "print(round(-12))\n",
    "print(round(-12.4))\n",
    "print(round(-12.6))"
   ]
  },
  {
   "cell_type": "code",
   "execution_count": 10,
   "id": "6b823d20",
   "metadata": {},
   "outputs": [
    {
     "data": {
      "text/plain": [
       "12.349"
      ]
     },
     "execution_count": 10,
     "metadata": {},
     "output_type": "execute_result"
    }
   ],
   "source": [
    "round(12.34863424,3)"
   ]
  },
  {
   "cell_type": "code",
   "execution_count": 11,
   "id": "1e7e31a4",
   "metadata": {},
   "outputs": [
    {
     "data": {
      "text/plain": [
       "2.4"
      ]
     },
     "execution_count": 11,
     "metadata": {},
     "output_type": "execute_result"
    }
   ],
   "source": [
    "# Float division\n",
    "12/5"
   ]
  },
  {
   "cell_type": "markdown",
   "id": "7857d01b",
   "metadata": {},
   "source": [
    "## Floor division: Quotient of a and b, removing fractional parts"
   ]
  },
  {
   "cell_type": "code",
   "execution_count": 12,
   "id": "22f4dd30",
   "metadata": {},
   "outputs": [
    {
     "data": {
      "text/plain": [
       "2"
      ]
     },
     "execution_count": 12,
     "metadata": {},
     "output_type": "execute_result"
    }
   ],
   "source": [
    "12//5"
   ]
  },
  {
   "cell_type": "markdown",
   "id": "19d84ae3",
   "metadata": {},
   "source": [
    "## Exponential a**b : a raised to the power of b"
   ]
  },
  {
   "cell_type": "code",
   "execution_count": 13,
   "id": "13d25ada",
   "metadata": {},
   "outputs": [
    {
     "data": {
      "text/plain": [
       "32"
      ]
     },
     "execution_count": 13,
     "metadata": {},
     "output_type": "execute_result"
    }
   ],
   "source": [
    "2**5"
   ]
  },
  {
   "cell_type": "markdown",
   "id": "c8083017",
   "metadata": {},
   "source": [
    "## Negation: The negative of a"
   ]
  },
  {
   "cell_type": "code",
   "execution_count": 14,
   "id": "fc6f814e",
   "metadata": {},
   "outputs": [
    {
     "name": "stdout",
     "output_type": "stream",
     "text": [
      "-145\n"
     ]
    }
   ],
   "source": [
    "x=145\n",
    "print(-x)"
   ]
  },
  {
   "cell_type": "markdown",
   "id": "fb6fd578",
   "metadata": {},
   "source": [
    "## Boolean values in Python: True and False\n",
    "## bool() on an integer returns False if it’s equal to 0 and True otherwise"
   ]
  },
  {
   "cell_type": "code",
   "execution_count": 15,
   "id": "f38eea40",
   "metadata": {},
   "outputs": [
    {
     "name": "stdout",
     "output_type": "stream",
     "text": [
      "True\n",
      "True\n",
      "True\n",
      "False\n",
      "False\n"
     ]
    }
   ],
   "source": [
    "print(bool(-9))\n",
    "print(bool(9))\n",
    "print(bool('abc'))\n",
    "print(bool(0))\n",
    "print(bool())"
   ]
  },
  {
   "cell_type": "markdown",
   "id": "c6db2537",
   "metadata": {},
   "source": [
    "# Operators\n",
    "\n",
    "## Arithmetic Operators\n",
    "    +, -, *, /, //, , %, **\n",
    "    Precedence:\n",
    "        P – Parentheses\n",
    "        E – Exponentiation\n",
    "        M – Multiplication (Multiplication and division have the same precedence)\n",
    "        D – Division\n",
    "        A – Addition (Addition and subtraction have the same precedence)\n",
    "        S – Subtraction\n",
    "\n",
    "## Comparison Operators\n",
    "    >, <, >=, <=, ==, !=, is, is not \n",
    "\n",
    "## Logical Operators\n",
    "    and, or, not\n",
    "\n",
    "## Bitwise Operators \n",
    "    &, |, ^, ~, >>(Bitwise right shift), << (Bitwise left shift)\n",
    "\n",
    "## Assignment Operators\n",
    "    =  : x = y + z\n",
    "    += : a+=b   : a=a+b\n",
    "    -= : a-=b   : a=a-b\n",
    "    *= : a*=b   : a=a*b\n",
    "    /= : a/=b   : a=a/b\n",
    "    %= : a%=b   : a=a%b\n",
    "    //=: a//=b  : a=a//b\n",
    "    **=: a**=b  : a=a**b\n",
    "    &= : a&=b   : a=a&b\n",
    "    |= : a|=b   : a=a|b\n",
    "    ^= : a^=b   : a=a^b\n",
    "    >>=: a>>=b  : a=a>>b\n",
    "    <<=: a <<= b: a= a << b\n",
    "\n",
    "## Identity Operators\n",
    "    is, is not\n",
    "\n",
    "## Membership Operators\n",
    "    in, not in\n",
    "\n",
    "## Ternary operator\n",
    "    [on_true] if [expression] else [on_false] \n"
   ]
  },
  {
   "cell_type": "code",
   "execution_count": 16,
   "id": "fa953fc5",
   "metadata": {},
   "outputs": [
    {
     "name": "stdout",
     "output_type": "stream",
     "text": [
      "9\n"
     ]
    }
   ],
   "source": [
    "# Ternary operators\n",
    "a,b=12,9\n",
    "min_a_b = a if a<b else b\n",
    "print(min_a_b)"
   ]
  },
  {
   "cell_type": "markdown",
   "id": "803484f2",
   "metadata": {},
   "source": [
    "# any"
   ]
  },
  {
   "cell_type": "code",
   "execution_count": 17,
   "id": "825b4946",
   "metadata": {},
   "outputs": [
    {
     "name": "stdout",
     "output_type": "stream",
     "text": [
      "True\n",
      "False\n",
      "True\n"
     ]
    }
   ],
   "source": [
    "print(any([0,0,1,0]))\n",
    "print(any([0,0,0,0]))\n",
    "print(any([1,1,1,1]))"
   ]
  },
  {
   "cell_type": "markdown",
   "id": "3b052441",
   "metadata": {},
   "source": [
    "# all"
   ]
  },
  {
   "cell_type": "code",
   "execution_count": 18,
   "id": "c1ad0a2c",
   "metadata": {},
   "outputs": [
    {
     "name": "stdout",
     "output_type": "stream",
     "text": [
      "True\n",
      "False\n",
      "True\n"
     ]
    }
   ],
   "source": [
    "print(any([False,False,True,False]))\n",
    "print(any([False,False,False,False]))\n",
    "print(any([True,True,True,True]))"
   ]
  },
  {
   "cell_type": "markdown",
   "id": "77618773",
   "metadata": {},
   "source": [
    "# id\n",
    "    id() function returns a unique id for the specified object.\n",
    "    All objects in Python has its own unique id.\n",
    "    The id is assigned to the object when it is created.\n",
    "    The id is the object's memory address, and will be different for each time you run the program.\n",
    "## Difference between 'is' and '='\n",
    "    'is' : Variables on either side of an operator point at the exact same object, then returns True (id should be same) \n",
    "    '='  : Variables on either side have the exact same value, then returns True"
   ]
  },
  {
   "cell_type": "code",
   "execution_count": 19,
   "id": "3facdeac",
   "metadata": {},
   "outputs": [
    {
     "name": "stdout",
     "output_type": "stream",
     "text": [
      "True\n",
      "True\n",
      "2611741944400\n",
      "2611741944400\n"
     ]
    }
   ],
   "source": [
    "a=10\n",
    "b=10\n",
    "\n",
    "print(a is b)\n",
    "print(a == b)\n",
    "\n",
    "print(id(a))\n",
    "print(id(b))"
   ]
  },
  {
   "cell_type": "code",
   "execution_count": 20,
   "id": "08d0e07f",
   "metadata": {},
   "outputs": [
    {
     "name": "stdout",
     "output_type": "stream",
     "text": [
      "False\n",
      "True\n",
      "2611826668992\n",
      "2611826670016\n"
     ]
    }
   ],
   "source": [
    "x=[1,2]\n",
    "y=[1,2]\n",
    "\n",
    "print(x is y)\n",
    "print(x == y)\n",
    "\n",
    "print(id(x))\n",
    "print(id(y))"
   ]
  },
  {
   "cell_type": "markdown",
   "id": "8604b7db",
   "metadata": {},
   "source": [
    "# Note: ++, -- \t\t: operators do not work in python"
   ]
  },
  {
   "cell_type": "markdown",
   "id": "b4929b96",
   "metadata": {},
   "source": [
    "# Comments\n",
    "\n",
    "    # single line comment\n",
    "\n",
    "    '''multi \n",
    "    line \n",
    "    comment \n",
    "    '''\n",
    "\n",
    "    \"\"\"also \n",
    "    a multi line \n",
    "    comment known as Docstrings comment \n",
    "    \"\"\""
   ]
  },
  {
   "cell_type": "markdown",
   "id": "1012cd92",
   "metadata": {},
   "source": [
    "# python keyword"
   ]
  },
  {
   "cell_type": "code",
   "execution_count": 21,
   "id": "368e80a6",
   "metadata": {},
   "outputs": [
    {
     "data": {
      "text/plain": [
       "['__all__',\n",
       " '__builtins__',\n",
       " '__cached__',\n",
       " '__doc__',\n",
       " '__file__',\n",
       " '__loader__',\n",
       " '__name__',\n",
       " '__package__',\n",
       " '__spec__',\n",
       " 'iskeyword',\n",
       " 'issoftkeyword',\n",
       " 'kwlist',\n",
       " 'softkwlist']"
      ]
     },
     "execution_count": 21,
     "metadata": {},
     "output_type": "execute_result"
    }
   ],
   "source": [
    "import keyword\n",
    "\n",
    "# dir() function returns all attributes and methods of the specified object\n",
    "dir(keyword)"
   ]
  },
  {
   "cell_type": "code",
   "execution_count": 22,
   "id": "866a0edc",
   "metadata": {},
   "outputs": [
    {
     "data": {
      "text/plain": [
       "['False',\n",
       " 'None',\n",
       " 'True',\n",
       " '__peg_parser__',\n",
       " 'and',\n",
       " 'as',\n",
       " 'assert',\n",
       " 'async',\n",
       " 'await',\n",
       " 'break',\n",
       " 'class',\n",
       " 'continue',\n",
       " 'def',\n",
       " 'del',\n",
       " 'elif',\n",
       " 'else',\n",
       " 'except',\n",
       " 'finally',\n",
       " 'for',\n",
       " 'from',\n",
       " 'global',\n",
       " 'if',\n",
       " 'import',\n",
       " 'in',\n",
       " 'is',\n",
       " 'lambda',\n",
       " 'nonlocal',\n",
       " 'not',\n",
       " 'or',\n",
       " 'pass',\n",
       " 'raise',\n",
       " 'return',\n",
       " 'try',\n",
       " 'while',\n",
       " 'with',\n",
       " 'yield']"
      ]
     },
     "execution_count": 22,
     "metadata": {},
     "output_type": "execute_result"
    }
   ],
   "source": [
    "keyword.kwlist"
   ]
  },
  {
   "cell_type": "markdown",
   "id": "4d7a3361",
   "metadata": {},
   "source": [
    "## Variable Names \n",
    "\n",
    "    The only characters that are allowed are letters, numbers, and underscores. \n",
    "    Also, they can't start with numbers."
   ]
  },
  {
   "cell_type": "markdown",
   "id": "4be9332b",
   "metadata": {},
   "source": [
    "## strip()\n",
    "    removes any leading and trailing characters\n",
    "    space is the default leading character to remove\n",
    "### Syntax\n",
    "    string.strip(characters)\n",
    "    characters: A set of characters to remove as leading/trailing characters"
   ]
  },
  {
   "cell_type": "code",
   "execution_count": 23,
   "id": "4a2ec3f2",
   "metadata": {},
   "outputs": [
    {
     "data": {
      "text/plain": [
       "'my pleasure'"
      ]
     },
     "execution_count": 23,
     "metadata": {},
     "output_type": "execute_result"
    }
   ],
   "source": [
    "'        my pleasure   '.strip()"
   ]
  },
  {
   "cell_type": "code",
   "execution_count": 24,
   "id": "56c17dc9",
   "metadata": {},
   "outputs": [
    {
     "data": {
      "text/plain": [
       "'How!dy'"
      ]
     },
     "execution_count": 24,
     "metadata": {},
     "output_type": "execute_result"
    }
   ],
   "source": [
    "',,,,....../////How!dy?1234;://}'.strip(',./?1234;:}')"
   ]
  },
  {
   "cell_type": "code",
   "execution_count": 25,
   "id": "e83c3092",
   "metadata": {},
   "outputs": [
    {
     "data": {
      "text/plain": [
       "'23 24 4 - 34 - 24 -- 2'"
      ]
     },
     "execution_count": 25,
     "metadata": {},
     "output_type": "execute_result"
    }
   ],
   "source": [
    "'------23 24 4 - 34 - 24 -- 2----'.strip('-')\n",
    "# it only removes leading/trailing characters"
   ]
  },
  {
   "cell_type": "code",
   "execution_count": 26,
   "id": "0e6af06e",
   "metadata": {},
   "outputs": [
    {
     "data": {
      "text/plain": [
       "'hello        '"
      ]
     },
     "execution_count": 26,
     "metadata": {},
     "output_type": "execute_result"
    }
   ],
   "source": [
    "'        hello        '.lstrip()"
   ]
  },
  {
   "cell_type": "code",
   "execution_count": 27,
   "id": "bc8016fd",
   "metadata": {},
   "outputs": [
    {
     "data": {
      "text/plain": [
       "'        hello'"
      ]
     },
     "execution_count": 27,
     "metadata": {},
     "output_type": "execute_result"
    }
   ],
   "source": [
    "'        hello        '.rstrip()"
   ]
  },
  {
   "cell_type": "code",
   "execution_count": 28,
   "id": "5d07d37e",
   "metadata": {},
   "outputs": [
    {
     "data": {
      "text/plain": [
       "'hello'"
      ]
     },
     "execution_count": 28,
     "metadata": {},
     "output_type": "execute_result"
    }
   ],
   "source": [
    "'        hello        '.strip()"
   ]
  },
  {
   "cell_type": "markdown",
   "id": "d5518e98",
   "metadata": {},
   "source": [
    "## split()\n",
    "    splits a string into a list\n",
    "    default separator is any whitespace\n",
    "### Syntax\n",
    "    string.split(separator, maxsplit)\n",
    "    separator\tOptional - Specifies the separator to use when splitting the string. \n",
    "    maxsplit\tOptional - Specifies how many splits to do. Default value is -1, which is \"all occurrences\""
   ]
  },
  {
   "cell_type": "code",
   "execution_count": 29,
   "id": "cffa69d2",
   "metadata": {},
   "outputs": [
    {
     "data": {
      "text/plain": [
       "['black', 'red', 'blue', 'yellow']"
      ]
     },
     "execution_count": 29,
     "metadata": {},
     "output_type": "execute_result"
    }
   ],
   "source": [
    "' black red blue yellow '.split()"
   ]
  },
  {
   "cell_type": "code",
   "execution_count": 30,
   "id": "c53a4ec3",
   "metadata": {},
   "outputs": [
    {
     "data": {
      "text/plain": [
       "['black', 'red', 'blue', 'yellow']"
      ]
     },
     "execution_count": 30,
     "metadata": {},
     "output_type": "execute_result"
    }
   ],
   "source": [
    "'black-red-blue-yellow'.split('-')"
   ]
  },
  {
   "cell_type": "code",
   "execution_count": 31,
   "id": "a42e59a0",
   "metadata": {},
   "outputs": [
    {
     "data": {
      "text/plain": [
       "[' black', 'red', 'blue', 'yellow ']"
      ]
     },
     "execution_count": 31,
     "metadata": {},
     "output_type": "execute_result"
    }
   ],
   "source": [
    "' black-red-blue-yellow '.split('-')"
   ]
  },
  {
   "cell_type": "code",
   "execution_count": 32,
   "id": "90cfa4f6",
   "metadata": {},
   "outputs": [
    {
     "data": {
      "text/plain": [
       "['black', 'red', 'blue-yellow']"
      ]
     },
     "execution_count": 32,
     "metadata": {},
     "output_type": "execute_result"
    }
   ],
   "source": [
    "'black-red-blue-yellow'.split('-',2)"
   ]
  },
  {
   "cell_type": "markdown",
   "id": "8516f60a",
   "metadata": {},
   "source": [
    "# User input\n",
    "## Note: input always returns str object, explicit conversion is required"
   ]
  },
  {
   "cell_type": "code",
   "execution_count": 33,
   "id": "4e32bf1a",
   "metadata": {},
   "outputs": [
    {
     "name": "stdout",
     "output_type": "stream",
     "text": [
      "Enter input: 345\n",
      "345\n",
      "<class 'str'>\n"
     ]
    }
   ],
   "source": [
    "x=input('Enter input: ')\n",
    "print(x)\n",
    "print(type(x))"
   ]
  },
  {
   "cell_type": "code",
   "execution_count": 34,
   "id": "f98020ba",
   "metadata": {},
   "outputs": [
    {
     "name": "stdout",
     "output_type": "stream",
     "text": [
      "Enter int input: 50\n",
      "60\n"
     ]
    }
   ],
   "source": [
    "y = int(input('Enter int input: '))\n",
    "print(y+10)"
   ]
  },
  {
   "cell_type": "markdown",
   "id": "1f836318",
   "metadata": {},
   "source": [
    "## multiple input"
   ]
  },
  {
   "cell_type": "code",
   "execution_count": 35,
   "id": "97ce91ce",
   "metadata": {},
   "outputs": [
    {
     "name": "stdout",
     "output_type": "stream",
     "text": [
      "Enter 3 values:  hi hello bye\n",
      "hi hello bye\n"
     ]
    }
   ],
   "source": [
    "str1, str2, str3 = input('Enter 3 values: ').split()\n",
    "print(str1, str2, str3)"
   ]
  },
  {
   "cell_type": "code",
   "execution_count": 36,
   "id": "eb7fa488",
   "metadata": {},
   "outputs": [
    {
     "name": "stdout",
     "output_type": "stream",
     "text": [
      "Enter 3 int values:  2 5 1\n",
      "3 6 2\n"
     ]
    }
   ],
   "source": [
    "a,b,c= map(int, input('Enter 3 int values: ').split())\n",
    "print(a+1,b+1,c+1)"
   ]
  },
  {
   "cell_type": "markdown",
   "id": "a1c03dcc",
   "metadata": {},
   "source": [
    "## list as an input"
   ]
  },
  {
   "cell_type": "code",
   "execution_count": 37,
   "id": "844d6784",
   "metadata": {},
   "outputs": [
    {
     "name": "stdout",
     "output_type": "stream",
     "text": [
      "Enter int list elements:           3    14           342 1   \n"
     ]
    },
    {
     "data": {
      "text/plain": [
       "[3, 14, 342, 1]"
      ]
     },
     "execution_count": 37,
     "metadata": {},
     "output_type": "execute_result"
    }
   ],
   "source": [
    "l=list(map(int,input('Enter int list elements: ').split()))\n",
    "l"
   ]
  },
  {
   "cell_type": "code",
   "execution_count": 38,
   "id": "d4569241",
   "metadata": {},
   "outputs": [
    {
     "name": "stdout",
     "output_type": "stream",
     "text": [
      "Enter int list elements:           3    14           342 1   \n"
     ]
    },
    {
     "data": {
      "text/plain": [
       "[3, 14, 342, 1]"
      ]
     },
     "execution_count": 38,
     "metadata": {},
     "output_type": "execute_result"
    }
   ],
   "source": [
    "l1 = [int(x) for x in input('Enter int list elements: ').split()]\n",
    "l1"
   ]
  },
  {
   "cell_type": "markdown",
   "id": "39619c24",
   "metadata": {},
   "source": [
    "# Note\n",
    "### if only leading and trailing space need to be removed between elements then, split with default parameter works fine\n",
    "### if only split is used without strip then 1st approach is quicker than 2nd approach"
   ]
  },
  {
   "cell_type": "code",
   "execution_count": 39,
   "id": "f1804a7c",
   "metadata": {
    "scrolled": true
   },
   "outputs": [
    {
     "name": "stdout",
     "output_type": "stream",
     "text": [
      "Enter int list elements: -----3    14           342 1-----\n"
     ]
    },
    {
     "data": {
      "text/plain": [
       "[3, 14, 342, 1]"
      ]
     },
     "execution_count": 39,
     "metadata": {},
     "output_type": "execute_result"
    }
   ],
   "source": [
    "ll=list(map(int,input('Enter int list elements: ').strip('-').split()))\n",
    "ll"
   ]
  },
  {
   "cell_type": "code",
   "execution_count": 40,
   "id": "b7f47cb0",
   "metadata": {},
   "outputs": [
    {
     "name": "stdout",
     "output_type": "stream",
     "text": [
      "Enter int list elements: -----3    14           342 1-----\n"
     ]
    },
    {
     "data": {
      "text/plain": [
       "[3, 14, 342, 1]"
      ]
     },
     "execution_count": 40,
     "metadata": {},
     "output_type": "execute_result"
    }
   ],
   "source": [
    "l1 = [int(x) for x in input('Enter int list elements: ').strip('-').split()]\n",
    "l1"
   ]
  },
  {
   "cell_type": "code",
   "execution_count": 41,
   "id": "637372be",
   "metadata": {},
   "outputs": [
    {
     "name": "stdout",
     "output_type": "stream",
     "text": [
      "1 2 3\n"
     ]
    },
    {
     "data": {
      "text/plain": [
       "[3, 14, 39]"
      ]
     },
     "execution_count": 41,
     "metadata": {},
     "output_type": "execute_result"
    }
   ],
   "source": [
    "f=lambda x: int(x)**3 + int(x)**2 + int(x)\n",
    "\n",
    "poly=list(map(f, input().split()))\n",
    "poly"
   ]
  },
  {
   "cell_type": "markdown",
   "id": "0adbd681",
   "metadata": {},
   "source": [
    "# User output\n",
    "    default end parameter of print() is \\n. Ex: end='\\n'"
   ]
  },
  {
   "cell_type": "code",
   "execution_count": 42,
   "id": "308d6bbf",
   "metadata": {},
   "outputs": [
    {
     "name": "stdout",
     "output_type": "stream",
     "text": [
      "Python World!Welcome\n"
     ]
    }
   ],
   "source": [
    "print('Python World', end='!')\n",
    "print('Welcome')"
   ]
  },
  {
   "cell_type": "code",
   "execution_count": 43,
   "id": "1b1eee2c",
   "metadata": {},
   "outputs": [
    {
     "name": "stdout",
     "output_type": "stream",
     "text": [
      "W-O-W-WOW\n"
     ]
    }
   ],
   "source": [
    "print('W','O','W','WOW',sep='-')"
   ]
  },
  {
   "cell_type": "code",
   "execution_count": 44,
   "id": "8f2a0028",
   "metadata": {},
   "outputs": [
    {
     "name": "stdout",
     "output_type": "stream",
     "text": [
      "8-1-2023\n"
     ]
    }
   ],
   "source": [
    "dd=8\n",
    "mm=1\n",
    "yyyy=2023\n",
    "print(dd,mm,yyyy,sep='-')"
   ]
  },
  {
   "cell_type": "code",
   "execution_count": 45,
   "id": "b19af75d",
   "metadata": {},
   "outputs": [
    {
     "name": "stdout",
     "output_type": "stream",
     "text": [
      "Hi\n",
      "hello anshu\n"
     ]
    }
   ],
   "source": [
    "print('Hi');name='anshu';print('hello '+name);"
   ]
  },
  {
   "cell_type": "code",
   "execution_count": 46,
   "id": "475a32c5",
   "metadata": {},
   "outputs": [
    {
     "name": "stdout",
     "output_type": "stream",
     "text": [
      "55\n"
     ]
    }
   ],
   "source": [
    "x = 1 + 2 + 3 + 4 + 5 \\\n",
    "+ 6 + 7 +\\\n",
    "8 + 9 + 10\n",
    "print(x)"
   ]
  },
  {
   "cell_type": "markdown",
   "id": "882a8512",
   "metadata": {},
   "source": [
    "## format()"
   ]
  },
  {
   "cell_type": "code",
   "execution_count": 47,
   "id": "29e860ca",
   "metadata": {},
   "outputs": [
    {
     "name": "stdout",
     "output_type": "stream",
     "text": [
      "Sum of 1.00000 and 2 = 3\n",
      "3.00000 is sum of 1 and 2\n"
     ]
    }
   ],
   "source": [
    "a,b = 1,2\n",
    "print('Sum of {:2.5f} and {} = {}'.format(a,b,a+b))\n",
    "print('{2:4.5f} is sum of {0} and {1}'.format(a,b,a+b))"
   ]
  },
  {
   "cell_type": "code",
   "execution_count": 48,
   "id": "08b66806",
   "metadata": {},
   "outputs": [
    {
     "name": "stdout",
     "output_type": "stream",
     "text": [
      "1 & 2 substraction is -1.00000 and sum is 3.00000\n"
     ]
    }
   ],
   "source": [
    "print('{val_a} & {val_b} substraction is {val_a_minus_b:2.5f} and sum is {val_a_plus_b:2.5f}'\n",
    "      .format(val_a=a, \n",
    "              val_b=b, \n",
    "              val_a_plus_b= (a+b),\n",
    "              val_a_minus_b= (a-b) ))"
   ]
  },
  {
   "cell_type": "markdown",
   "id": "8f5945d0",
   "metadata": {},
   "source": [
    "# Decision making"
   ]
  },
  {
   "cell_type": "markdown",
   "id": "4007e4a2",
   "metadata": {},
   "source": [
    "## if-elif-else"
   ]
  },
  {
   "cell_type": "code",
   "execution_count": 49,
   "id": "6563ed34",
   "metadata": {},
   "outputs": [
    {
     "name": "stdout",
     "output_type": "stream",
     "text": [
      "x is 20\n"
     ]
    }
   ],
   "source": [
    "x = 20\n",
    "if x == 10:\n",
    "    print(\"x is 10\")\n",
    "elif x == 15:\n",
    "    print(\"x is 15\")\n",
    "elif x == 20:\n",
    "    print(\"x is 20\")\n",
    "else:\n",
    "    print(\"x is not present\")"
   ]
  },
  {
   "cell_type": "code",
   "execution_count": 50,
   "id": "a394dc27",
   "metadata": {},
   "outputs": [
    {
     "name": "stdout",
     "output_type": "stream",
     "text": [
      "110\n"
     ]
    }
   ],
   "source": [
    "x = 100\n",
    "x = x+10 if x%2==0 else x-10\n",
    "print(x)"
   ]
  },
  {
   "cell_type": "markdown",
   "id": "f62b158c",
   "metadata": {},
   "source": [
    "# Control flow"
   ]
  },
  {
   "cell_type": "markdown",
   "id": "e304cbb7",
   "metadata": {},
   "source": [
    "## while"
   ]
  },
  {
   "cell_type": "code",
   "execution_count": 51,
   "id": "defb3f0a",
   "metadata": {},
   "outputs": [
    {
     "name": "stdout",
     "output_type": "stream",
     "text": [
      "0 hi\n",
      "1 hi\n",
      "2 hi\n"
     ]
    }
   ],
   "source": [
    "count=0\n",
    "while count<3:\n",
    "    print(count, 'hi')\n",
    "    count+=1"
   ]
  },
  {
   "cell_type": "markdown",
   "id": "0757fec0",
   "metadata": {},
   "source": [
    "## while-else\n",
    "### The else clause is only executed when your while condition becomes false and no break statement executed"
   ]
  },
  {
   "cell_type": "code",
   "execution_count": 52,
   "id": "12513fa2",
   "metadata": {},
   "outputs": [
    {
     "name": "stdout",
     "output_type": "stream",
     "text": [
      "0 hi\n",
      "1 hi\n",
      "2 hi\n",
      "3 Hello\n"
     ]
    }
   ],
   "source": [
    "count=0\n",
    "while count<3:\n",
    "    print(count, 'hi')\n",
    "    count+=1\n",
    "else:\n",
    "    print(count, 'Hello') # executed only once when condition becomes False and no break statement executed in whle execution"
   ]
  },
  {
   "cell_type": "code",
   "execution_count": 53,
   "id": "8d2ee65e",
   "metadata": {},
   "outputs": [
    {
     "name": "stdout",
     "output_type": "stream",
     "text": [
      "0 hi\n"
     ]
    }
   ],
   "source": [
    "count=0\n",
    "while count<3:\n",
    "    print(count, 'hi')\n",
    "    count+=1\n",
    "    break\n",
    "else:\n",
    "    print(count, 'Hello') # will not be executed as break statement executed in while loop"
   ]
  },
  {
   "cell_type": "markdown",
   "id": "5c8e238b",
   "metadata": {},
   "source": [
    "## working of for loop \n",
    "    Create iterable object with help of the iter() function over list.\n",
    "    Run an infinite while loop and break only if the StopIteration is raised.\n",
    "    In the try block, we fetch the next element of fruits with the next() function.\n",
    "    After fetching the element we did the operation to be performed with the element. (i.e print(next(iter_obj)))\n",
    "    Once next() method will not be able to find next object, it will rise exception StopIteration\n",
    "    In exception handling break statement is executed."
   ]
  },
  {
   "cell_type": "code",
   "execution_count": 54,
   "id": "deedf01e",
   "metadata": {},
   "outputs": [
    {
     "name": "stdout",
     "output_type": "stream",
     "text": [
      "banana apple orange \n",
      "banana apple orange "
     ]
    }
   ],
   "source": [
    "fruits = ['banana', 'apple', 'orange']\n",
    "\n",
    "# for loop extrnally\n",
    "for item in fruits:\n",
    "    print(item, end=' ')\n",
    "\n",
    "print()\n",
    "\n",
    "fruits = ['banana', 'apple', 'orange']\n",
    "# for loop internally\n",
    "iter_obj = iter(fruits)\n",
    " \n",
    "while True:\n",
    "    try:\n",
    "        print(next(iter_obj),end=' ')\n",
    "    except StopIteration:\n",
    "        break"
   ]
  },
  {
   "cell_type": "markdown",
   "id": "dc6b9448",
   "metadata": {},
   "source": [
    "## for-range"
   ]
  },
  {
   "cell_type": "code",
   "execution_count": 55,
   "id": "5eb675d3",
   "metadata": {},
   "outputs": [
    {
     "name": "stdout",
     "output_type": "stream",
     "text": [
      "0 1 2 3 4 "
     ]
    }
   ],
   "source": [
    "for i in range(5):      # 0 to n-1\n",
    "    print(i,end=' ')"
   ]
  },
  {
   "cell_type": "code",
   "execution_count": 56,
   "id": "e081000e",
   "metadata": {},
   "outputs": [
    {
     "name": "stdout",
     "output_type": "stream",
     "text": [
      "0 1 2 3 4 "
     ]
    }
   ],
   "source": [
    "# below example is same as above\n",
    "for i in range(0,5):    # 0 to n-1\n",
    "    print(i,end=' ')"
   ]
  },
  {
   "cell_type": "code",
   "execution_count": 57,
   "id": "b42f59ca",
   "metadata": {},
   "outputs": [
    {
     "name": "stdout",
     "output_type": "stream",
     "text": [
      "0 2 4 6 8 "
     ]
    }
   ],
   "source": [
    "for i in range(0,10,2):    # 0 to n-1 with interval=2\n",
    "    print(i,end=' ')"
   ]
  },
  {
   "cell_type": "code",
   "execution_count": 58,
   "id": "79716c5b",
   "metadata": {},
   "outputs": [
    {
     "name": "stdout",
     "output_type": "stream",
     "text": [
      "5 6 7 8 9 "
     ]
    }
   ],
   "source": [
    "for i in range(5,10):      # k to n-1\n",
    "    print(i,end=' ')"
   ]
  },
  {
   "cell_type": "code",
   "execution_count": 59,
   "id": "c96cf698",
   "metadata": {},
   "outputs": [
    {
     "name": "stdout",
     "output_type": "stream",
     "text": [
      "5 7 9 "
     ]
    }
   ],
   "source": [
    "for i in range(5,10,2):    # k to n-1 with interval=2\n",
    "    print(i,end=' ')"
   ]
  },
  {
   "cell_type": "markdown",
   "id": "d9d392e4",
   "metadata": {},
   "source": [
    "## for with list, tuple, set, disctonary, string\n",
    "### Note\n",
    "    set does not contain duplicate item\n",
    "    tuple, string are immutable (i.e. value can not be assigned) but lists are mutable"
   ]
  },
  {
   "cell_type": "code",
   "execution_count": 60,
   "id": "71040dc7",
   "metadata": {},
   "outputs": [
    {
     "name": "stdout",
     "output_type": "stream",
     "text": [
      "abc pqr xyz "
     ]
    }
   ],
   "source": [
    "l = ['abc','pqr','xyz']\n",
    "\n",
    "for item in l:\n",
    "    print(item,end=' ')"
   ]
  },
  {
   "cell_type": "code",
   "execution_count": 61,
   "id": "6e3ff61f",
   "metadata": {},
   "outputs": [
    {
     "name": "stdout",
     "output_type": "stream",
     "text": [
      "abc pqr xyz "
     ]
    }
   ],
   "source": [
    "t = ('abc','pqr','xyz')\n",
    "\n",
    "for item in t:\n",
    "    print(item,end=' ')"
   ]
  },
  {
   "cell_type": "code",
   "execution_count": 62,
   "id": "ec1dd187",
   "metadata": {},
   "outputs": [
    {
     "name": "stdout",
     "output_type": "stream",
     "text": [
      "{'abc', 'pqr', 'xyz'}\n",
      "abc pqr xyz "
     ]
    }
   ],
   "source": [
    "s = {'abc','pqr','xyz','abc'} # as set does not contain duplicate, duplicate item will be removed automatically \n",
    "print(s)\n",
    "\n",
    "for item in s:\n",
    "    print(item,end=' ')"
   ]
  },
  {
   "cell_type": "code",
   "execution_count": 63,
   "id": "941314c8",
   "metadata": {},
   "outputs": [
    {
     "name": "stdout",
     "output_type": "stream",
     "text": [
      "xyz - 1\n",
      "abc - 2\n"
     ]
    }
   ],
   "source": [
    "d = {\n",
    "    'xyz':1,\n",
    "    'abc':2\n",
    "}\n",
    "\n",
    "for i in d:\n",
    "    print(i,'-',d[i])"
   ]
  },
  {
   "cell_type": "code",
   "execution_count": 64,
   "id": "337deb2e",
   "metadata": {},
   "outputs": [
    {
     "name": "stdout",
     "output_type": "stream",
     "text": [
      "A n s h u "
     ]
    }
   ],
   "source": [
    "str1 = 'Anshu'\n",
    "\n",
    "for char in str1:\n",
    "    print(char,end=' ')"
   ]
  },
  {
   "cell_type": "markdown",
   "id": "a97afaa7",
   "metadata": {},
   "source": [
    "## Iterating by the index of sequences"
   ]
  },
  {
   "cell_type": "code",
   "execution_count": 65,
   "id": "8249c825",
   "metadata": {},
   "outputs": [
    {
     "name": "stdout",
     "output_type": "stream",
     "text": [
      "abc pqr xyz "
     ]
    }
   ],
   "source": [
    "l = ['abc','pqr','xyz']\n",
    "\n",
    "for i in range(len(l)):\n",
    "    print(l[i],end=' ')"
   ]
  },
  {
   "cell_type": "markdown",
   "id": "127438d5",
   "metadata": {},
   "source": [
    "## for-else \n",
    "### else - Executed at the end of for loop considering no break statment executed in for part"
   ]
  },
  {
   "cell_type": "code",
   "execution_count": 66,
   "id": "06b54e50",
   "metadata": {},
   "outputs": [
    {
     "name": "stdout",
     "output_type": "stream",
     "text": [
      "abc pqr xyz \n",
      "Execution completed\n"
     ]
    }
   ],
   "source": [
    "l = ['abc','pqr','xyz']\n",
    "\n",
    "for i in range(len(l)):\n",
    "    print(l[i],end=' ')\n",
    "else: \n",
    "    print('\\nExecution completed')  # Executed at the end of for loop considering no break statment executed in for loop"
   ]
  },
  {
   "cell_type": "code",
   "execution_count": 67,
   "id": "7df577f4",
   "metadata": {},
   "outputs": [
    {
     "name": "stdout",
     "output_type": "stream",
     "text": [
      "0  :  abc\n",
      "1  :  pqr\n",
      "Executing break\n",
      "Out of loop: else not executed\n"
     ]
    }
   ],
   "source": [
    "l = ['abc','pqr','xyz']\n",
    "\n",
    "for i in range(len(l)):\n",
    "    print(i,' : ',l[i])\n",
    "    if i==1:\n",
    "        print('Executing break')\n",
    "        break\n",
    "else: \n",
    "    print('\\nExecution completed')  # this will not be executed at the end of for loop\n",
    "\n",
    "print('Out of loop: else not executed')    "
   ]
  },
  {
   "cell_type": "markdown",
   "id": "868477db",
   "metadata": {},
   "source": [
    "## Loop Control Statements - continue & break"
   ]
  },
  {
   "cell_type": "code",
   "execution_count": 68,
   "id": "0a465c91",
   "metadata": {},
   "outputs": [
    {
     "name": "stdout",
     "output_type": "stream",
     "text": [
      "A n s u "
     ]
    }
   ],
   "source": [
    "str1 = 'Anshu'\n",
    "\n",
    "for char in str1:\n",
    "    if char=='h':\n",
    "        continue\n",
    "    print(char,end=' ')"
   ]
  },
  {
   "cell_type": "code",
   "execution_count": 69,
   "id": "1925bcb4",
   "metadata": {},
   "outputs": [
    {
     "name": "stdout",
     "output_type": "stream",
     "text": [
      "A n "
     ]
    }
   ],
   "source": [
    "str1 = 'Anshu'\n",
    "\n",
    "for char in str1:\n",
    "    if char=='s':\n",
    "        break\n",
    "    print(char,end=' ')"
   ]
  },
  {
   "cell_type": "markdown",
   "id": "d340a959",
   "metadata": {},
   "source": [
    "# Looping techniques"
   ]
  },
  {
   "cell_type": "markdown",
   "id": "5a8094bb",
   "metadata": {},
   "source": [
    "## enumerate \n",
    "    Used to loop with index along with the value"
   ]
  },
  {
   "cell_type": "code",
   "execution_count": 70,
   "id": "542d3320",
   "metadata": {},
   "outputs": [
    {
     "name": "stdout",
     "output_type": "stream",
     "text": [
      "['Python', 'language', 'is', 'so', 'cool!']\n",
      "0  :  Python\n",
      "1  :  language\n",
      "2  :  is\n",
      "3  :  so\n",
      "4  :  cool!\n"
     ]
    }
   ],
   "source": [
    "l = 'Python language is so cool!'.split()\n",
    "print(l)\n",
    "\n",
    "for k,v in enumerate(l):\n",
    "    print(k,' : ',v)"
   ]
  },
  {
   "cell_type": "code",
   "execution_count": 71,
   "id": "3f023803",
   "metadata": {},
   "outputs": [
    {
     "name": "stdout",
     "output_type": "stream",
     "text": [
      "(0, 'A')\n",
      "(1, 'B')\n",
      "(2, 'C')\n",
      "(3, 'D')\n",
      "(4, 'E')\n",
      "(5, 'F')\n",
      "(6, 'G')\n",
      "(7, 'H')\n",
      "(8, 'I')\n",
      "(9, 'J')\n",
      "(10, 'K')\n",
      "(11, 'L')\n",
      "(12, 'M')\n",
      "(13, 'N')\n",
      "(14, 'O')\n",
      "(15, 'P')\n",
      "(16, 'Q')\n",
      "(17, 'R')\n",
      "(18, 'S')\n",
      "(19, 'T')\n",
      "(20, 'U')\n",
      "(21, 'V')\n",
      "(22, 'W')\n",
      "(23, 'X')\n",
      "(24, 'Y')\n",
      "(25, 'Z')\n"
     ]
    }
   ],
   "source": [
    "for i in enumerate(''.join([chr(j) for j in range(65,(65+26))])):\n",
    "    print(i)"
   ]
  },
  {
   "cell_type": "markdown",
   "id": "0766f9d0",
   "metadata": {},
   "source": [
    "## zip\n",
    "    Used to combine 2 similar containers(list-list or dict-dict) printing the values sequentially.\n",
    "    The loop exists only till the smaller container ends. "
   ]
  },
  {
   "cell_type": "code",
   "execution_count": 72,
   "id": "3dad5948",
   "metadata": {},
   "outputs": [
    {
     "name": "stdout",
     "output_type": "stream",
     "text": [
      "this is 1 - one\n",
      "this is 2 - two\n",
      "this is 3 - three\n"
     ]
    }
   ],
   "source": [
    "int_arr = [1,2,3]\n",
    "str_arr = ['one','two','three','four']\n",
    "\n",
    "for i,s in zip(int_arr, str_arr):\n",
    "    print('this is {} - {}'.format(i,s))"
   ]
  },
  {
   "cell_type": "code",
   "execution_count": 73,
   "id": "960d8f8c",
   "metadata": {},
   "outputs": [
    {
     "name": "stdout",
     "output_type": "stream",
     "text": [
      "('A', 'a')\n",
      "('B', 'b')\n",
      "('C', 'c')\n",
      "('D', 'd')\n",
      "('E', 'e')\n",
      "('F', 'f')\n",
      "('G', 'g')\n",
      "('H', 'h')\n",
      "('I', 'i')\n",
      "('J', 'j')\n",
      "('K', 'k')\n",
      "('L', 'l')\n",
      "('M', 'm')\n",
      "('N', 'n')\n",
      "('O', 'o')\n",
      "('P', 'p')\n",
      "('Q', 'q')\n",
      "('R', 'r')\n",
      "('S', 's')\n",
      "('T', 't')\n",
      "('U', 'u')\n",
      "('V', 'v')\n",
      "('W', 'w')\n",
      "('X', 'x')\n",
      "('Y', 'y')\n",
      "('Z', 'z')\n"
     ]
    }
   ],
   "source": [
    "for i in zip([chr(j) for j in range(65,(65+26))],[chr(k) for k in range(97,(97+26))]):\n",
    "    print(i)"
   ]
  },
  {
   "cell_type": "markdown",
   "id": "26e8dc32",
   "metadata": {},
   "source": [
    "# Miscellaneous"
   ]
  },
  {
   "cell_type": "markdown",
   "id": "f5cdd4b6",
   "metadata": {},
   "source": [
    "## In Python3, value of an integer is not restricted by the number of bits and can expand to the limit of the available memory"
   ]
  },
  {
   "cell_type": "code",
   "execution_count": 74,
   "id": "1f4b22a9",
   "metadata": {},
   "outputs": [
    {
     "data": {
      "text/plain": [
       "10000000000000000000000000000000000000000001"
      ]
     },
     "execution_count": 74,
     "metadata": {},
     "output_type": "execute_result"
    }
   ],
   "source": [
    "x = 10000000000000000000000000000000000000000000\n",
    "x+1"
   ]
  },
  {
   "cell_type": "markdown",
   "id": "96e33b42",
   "metadata": {},
   "source": [
    "## Swap variables"
   ]
  },
  {
   "cell_type": "code",
   "execution_count": 75,
   "id": "cb289e53",
   "metadata": {},
   "outputs": [
    {
     "name": "stdout",
     "output_type": "stream",
     "text": [
      "a= 5\n",
      "b= 10\n"
     ]
    }
   ],
   "source": [
    "a=10\n",
    "b=5\n",
    "a,b=b,a\n",
    "print('a=',a)\n",
    "print('b=',b)"
   ]
  },
  {
   "cell_type": "markdown",
   "id": "85a895b2",
   "metadata": {},
   "source": [
    "## Type Conversion\n",
    "    Implicit Type Conversion\n",
    "    Explicit Type Conversion"
   ]
  },
  {
   "cell_type": "markdown",
   "id": "74bea96a",
   "metadata": {},
   "source": [
    "### Implicit Type Conversion"
   ]
  },
  {
   "cell_type": "code",
   "execution_count": 76,
   "id": "fe05f4e8",
   "metadata": {},
   "outputs": [
    {
     "name": "stdout",
     "output_type": "stream",
     "text": [
      "<class 'int'>\n",
      "<class 'float'>\n",
      "<class 'float'>\n"
     ]
    }
   ],
   "source": [
    "x=10\n",
    "y=10.2\n",
    "z=x+y          # Implicit Type Conversion to float\n",
    "print(type(x))\n",
    "print(type(y))\n",
    "print(type(z))"
   ]
  },
  {
   "cell_type": "markdown",
   "id": "993fe086",
   "metadata": {},
   "source": [
    "### Explicit Type Conversion\n",
    "    int(a, base) : Converts any data type to integer. Base specifies the base in which string is if data type is a string.\n",
    "    float()      : Convert any data type to a floating-point number. \n",
    "    str()        : Convert integer into a string.\n",
    "    chr(number)  : Converts number to its corresponding ASCII character. \n",
    "    ord()        : Convert a character to integer.\n",
    "    hex()        : Convert integer to hexadecimal string.\n",
    "    oct()        : Convert integer to octal string.\n",
    "    complex(real,imag) : Converts real numbers to complex(real,imag) number."
   ]
  },
  {
   "cell_type": "code",
   "execution_count": 77,
   "id": "b12686b6",
   "metadata": {},
   "outputs": [
    {
     "name": "stdout",
     "output_type": "stream",
     "text": [
      "13\n",
      "577\n",
      "4353\n",
      "1106\n"
     ]
    }
   ],
   "source": [
    "binary_str = '1101'\n",
    "\n",
    "print(int(binary_str,2))   # 1*2^3 + 1*2^2 + 1*2^1 + 1*2^0 = 13   --> Binary to Decimal\n",
    "print(int(binary_str,8))   # 1*8^3 + 1*8^2 + 1*8^1 + 1*8^0 = 577\n",
    "print(int(binary_str,16))  # 1*16^3 + 1*16^2 + 1*16^1 + 1*16^0 = 4353\n",
    "\n",
    "print(int(binary_str) + 5) # String to int: 1101 + 5 = 1106"
   ]
  },
  {
   "cell_type": "code",
   "execution_count": 78,
   "id": "75ea5135",
   "metadata": {},
   "outputs": [
    {
     "name": "stdout",
     "output_type": "stream",
     "text": [
      "<class 'str'> A\n",
      "<class 'int'> 97\n",
      "<class 'str'> 0b1111\n",
      "<class 'str'> 0o17\n",
      "<class 'str'> 0xf\n"
     ]
    }
   ],
   "source": [
    "print(type(chr(65)),chr(65))   # int to ASCII char string\n",
    "print(type(ord('a')),ord('a')) # ASCII char to int\n",
    "\n",
    "x=15\n",
    "print(type(bin(x)),bin(x))     # int to binary string\n",
    "print(type(oct(x)),oct(x))     # int to octal string\n",
    "print(type(hex(x)),hex(x))     # int to hexadecimal string"
   ]
  },
  {
   "cell_type": "markdown",
   "id": "f2fb25a9",
   "metadata": {},
   "source": [
    "## sorted(list)\n",
    "    Used to print the container is sorted order\n",
    "    sorted operation does not affect original array\n",
    "    set() can be combined to remove duplicate occurrences."
   ]
  },
  {
   "cell_type": "code",
   "execution_count": 79,
   "id": "a6ac6ede",
   "metadata": {},
   "outputs": [
    {
     "name": "stdout",
     "output_type": "stream",
     "text": [
      "[-9, -1, 0, 0, 1, 2, 3, 3]\n",
      "[-9, -1, 0, 1, 2, 3]\n",
      "[1, 2, 3, -1, -9, 0, 0, 3]\n"
     ]
    }
   ],
   "source": [
    "l=[1,2,3,-1,-9,0,0,3]\n",
    "\n",
    "print(sorted(l))\n",
    "print(sorted(set(l)))\n",
    "\n",
    "print(l) # sorted operation does not affect original array"
   ]
  },
  {
   "cell_type": "markdown",
   "id": "f8077e82",
   "metadata": {},
   "source": [
    "## reversed(list)\n",
    "    Used to print the values of the container in the reversed order. \n",
    "    It does not reflect any changes to the original list"
   ]
  },
  {
   "cell_type": "code",
   "execution_count": 80,
   "id": "61500688",
   "metadata": {},
   "outputs": [
    {
     "name": "stdout",
     "output_type": "stream",
     "text": [
      "<list_reverseiterator object at 0x000002601E0342E0>\n",
      "3 0 0 -9 -1 3 2 1 \n",
      "[1, 2, 3, -1, -9, 0, 0, 3]\n"
     ]
    }
   ],
   "source": [
    "l=[1,2,3,-1,-9,0,0,3]\n",
    "\n",
    "print(reversed(l))\n",
    "\n",
    "for i in reversed(l):\n",
    "    print(i,end=' ')\n",
    "print()\n",
    "\n",
    "print(l)"
   ]
  },
  {
   "cell_type": "markdown",
   "id": "602a5b09",
   "metadata": {},
   "source": [
    "# Python programms"
   ]
  },
  {
   "cell_type": "markdown",
   "id": "c720e370",
   "metadata": {},
   "source": [
    "## generate prime number in interval\n",
    "    larger factor of n must be a multiple of a smaller factor that has been already checked. \n",
    "    check up to sqrt(n)"
   ]
  },
  {
   "cell_type": "code",
   "execution_count": 81,
   "id": "84f52b13",
   "metadata": {},
   "outputs": [
    {
     "data": {
      "text/plain": [
       "[907, 911, 919, 929, 937, 941, 947, 953, 967, 971, 977, 983, 991, 997]"
      ]
     },
     "execution_count": 81,
     "metadata": {},
     "output_type": "execute_result"
    }
   ],
   "source": [
    "l=[]\n",
    "for x in range(900,1000):\n",
    "    prime_flag=True\n",
    "    for i in range(2,int(pow(x,0.5)+1)):\n",
    "        if x%i==0:\n",
    "            prime_flag=False\n",
    "    if prime_flag:\n",
    "        l.append(x)\n",
    "l"
   ]
  }
 ],
 "metadata": {
  "kernelspec": {
   "display_name": "Python 3 (ipykernel)",
   "language": "python",
   "name": "python3"
  },
  "language_info": {
   "codemirror_mode": {
    "name": "ipython",
    "version": 3
   },
   "file_extension": ".py",
   "mimetype": "text/x-python",
   "name": "python",
   "nbconvert_exporter": "python",
   "pygments_lexer": "ipython3",
   "version": "3.9.13"
  }
 },
 "nbformat": 4,
 "nbformat_minor": 5
}
