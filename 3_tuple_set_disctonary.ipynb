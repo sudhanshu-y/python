{
 "cells": [
  {
   "cell_type": "markdown",
   "id": "1abf2393",
   "metadata": {},
   "source": [
    "# tuple\n",
    "    ‘Lists’ are mutable whereas ‘tuples’ are immutable.\n",
    "    Functions that can be used for both lists and tuples: len(), max(), min(), sum(), any(), all(), sorted()\n",
    "    Methods that cannot be used for tuples: append(), insert(), remove(), pop(), clear(), sort(), reverse()\n",
    "    Iterating through a ‘tuple’ is faster than in a ‘list’.\n",
    "    Tuples that contain immutable elements can be used as a key for a dictionary."
   ]
  },
  {
   "cell_type": "code",
   "execution_count": 1,
   "id": "66c9eee6",
   "metadata": {},
   "outputs": [
    {
     "name": "stdout",
     "output_type": "stream",
     "text": [
      "()\n",
      "(3, 6, 2)\n",
      "(2, 6, 3)\n",
      "('brown', 'cream', 'yellow')\n",
      "(5, 3, ['a', 'A'])\n"
     ]
    }
   ],
   "source": [
    "t1=()\n",
    "print(t1)\n",
    "\n",
    "t2=(3,6,2)\n",
    "print(t2)\n",
    "print(t2[::-1])\n",
    "\n",
    "t3=('brown','cream','yellow')\n",
    "print(t3)\n",
    "\n",
    "l1 = [5,3,['a','A']]\n",
    "print(tuple(l1))"
   ]
  },
  {
   "cell_type": "code",
   "execution_count": 2,
   "id": "5844b8f9",
   "metadata": {},
   "outputs": [
    {
     "data": {
      "text/plain": [
       "'redredred'"
      ]
     },
     "execution_count": 2,
     "metadata": {},
     "output_type": "execute_result"
    }
   ],
   "source": [
    "t1 = ('red')*3\n",
    "t1"
   ]
  },
  {
   "cell_type": "code",
   "execution_count": 3,
   "id": "ac76ffc3",
   "metadata": {},
   "outputs": [
    {
     "data": {
      "text/plain": [
       "('red', 'red', 'red')"
      ]
     },
     "execution_count": 3,
     "metadata": {},
     "output_type": "execute_result"
    }
   ],
   "source": [
    "t1 = ('red',)*3\n",
    "t1"
   ]
  },
  {
   "cell_type": "code",
   "execution_count": 4,
   "id": "8e9bbd72",
   "metadata": {},
   "outputs": [
    {
     "name": "stdout",
     "output_type": "stream",
     "text": [
      "3\n",
      "4\n",
      "6\n"
     ]
    }
   ],
   "source": [
    "a,b,c = (3,4,6)\n",
    "print(a)\n",
    "print(b)\n",
    "print(c)"
   ]
  },
  {
   "cell_type": "code",
   "execution_count": 5,
   "id": "ff7b54c1",
   "metadata": {},
   "outputs": [
    {
     "name": "stdout",
     "output_type": "stream",
     "text": [
      "3\n",
      "4\n",
      "[6, 7, 8, -1, 0]\n",
      "100\n"
     ]
    }
   ],
   "source": [
    "a,b,*c, d = (3,4,6,7,8,-1,0, 100)\n",
    "print(a)\n",
    "print(b)\n",
    "print(c)\n",
    "print(d)"
   ]
  },
  {
   "cell_type": "markdown",
   "id": "36eac924",
   "metadata": {},
   "source": [
    "# Set\n",
    "    Set is an unordered collection of data types that is iterable, mutable and has no duplicate elements"
   ]
  },
  {
   "cell_type": "code",
   "execution_count": 6,
   "id": "77a34230",
   "metadata": {},
   "outputs": [
    {
     "name": "stdout",
     "output_type": "stream",
     "text": [
      "set()\n",
      "{2, 3, 4, 5}\n",
      "{'n', 's', 'h', 'u', 'a'}\n",
      "{'xyz', 'abc', 'pqr'}\n"
     ]
    }
   ],
   "source": [
    "s1=set()\n",
    "print(s1)\n",
    "\n",
    "s2={2,3,4,5,2,3,4,5}\n",
    "print(s2)\n",
    "\n",
    "str3='anshu'\n",
    "print(set(str3))\n",
    "\n",
    "str_arr = ['abc','abc','xyz','pqr']\n",
    "print(set(str_arr))"
   ]
  },
  {
   "cell_type": "markdown",
   "id": "db0b43ad",
   "metadata": {},
   "source": [
    "## add(item)\n",
    "    list can not be added as item in set but tuple can be added"
   ]
  },
  {
   "cell_type": "code",
   "execution_count": 7,
   "id": "616bd784",
   "metadata": {},
   "outputs": [
    {
     "name": "stdout",
     "output_type": "stream",
     "text": [
      "{1, 2}\n",
      "{1, 2, ('red', 'black')}\n"
     ]
    }
   ],
   "source": [
    "s1=set()\n",
    "\n",
    "s1.add(1)\n",
    "s1.add(2)\n",
    "s1.add(2)\n",
    "print(s1)\n",
    "\n",
    "s1.add(('red','black'))\n",
    "print(s1)"
   ]
  },
  {
   "cell_type": "markdown",
   "id": "c7000dfe",
   "metadata": {},
   "source": [
    "## update(list), update(tuple), update(string)"
   ]
  },
  {
   "cell_type": "code",
   "execution_count": 8,
   "id": "dce3d5c6",
   "metadata": {},
   "outputs": [
    {
     "data": {
      "text/plain": [
       "{('red', 'black'), -100, 1, 2, 3}"
      ]
     },
     "execution_count": 8,
     "metadata": {},
     "output_type": "execute_result"
    }
   ],
   "source": [
    "s1.update([1,3, -100])\n",
    "s1"
   ]
  },
  {
   "cell_type": "code",
   "execution_count": 9,
   "id": "92da55ff",
   "metadata": {},
   "outputs": [
    {
     "data": {
      "text/plain": [
       "{('red', 'black'), -100, -2, 0, 1, 2, 2.5, 3}"
      ]
     },
     "execution_count": 9,
     "metadata": {},
     "output_type": "execute_result"
    }
   ],
   "source": [
    "s1.update((-2,0,2.5,-2))\n",
    "s1"
   ]
  },
  {
   "cell_type": "code",
   "execution_count": 10,
   "id": "655c7003",
   "metadata": {},
   "outputs": [
    {
     "data": {
      "text/plain": [
       "{('red', 'black'), -100, -2, 0, 1, 2, 2.5, 3, 'c', 'l', 'u', 'y'}"
      ]
     },
     "execution_count": 10,
     "metadata": {},
     "output_type": "execute_result"
    }
   ],
   "source": [
    "s1.update('lucy')\n",
    "s1"
   ]
  },
  {
   "cell_type": "markdown",
   "id": "8042ed96",
   "metadata": {},
   "source": [
    "## pop() - remove and return an element from the set\n",
    "    If the set is unordered then there’s no such way to determine which element is popped by using the pop() function."
   ]
  },
  {
   "cell_type": "code",
   "execution_count": 11,
   "id": "7be5945a",
   "metadata": {
    "scrolled": true
   },
   "outputs": [
    {
     "name": "stdout",
     "output_type": "stream",
     "text": [
      "1\n",
      "{2, 3, 4, 5, 6, 7, 8, 9, 10}\n"
     ]
    }
   ],
   "source": [
    "s1 = set([1, 2, 3, 4, 5, 6, 7, 8, 9, 10])\n",
    "\n",
    "print(s1.pop())\n",
    "print(s1)"
   ]
  },
  {
   "cell_type": "markdown",
   "id": "ad1a8f1e",
   "metadata": {},
   "source": [
    "## remove(item)/discard(item)\n",
    "    remove - raises KeyError arises if the element doesn’t exist in the set\n",
    "    discard - if the element doesn’t exist in the set, it remains unchanged"
   ]
  },
  {
   "cell_type": "code",
   "execution_count": 12,
   "id": "920bece4",
   "metadata": {},
   "outputs": [
    {
     "data": {
      "text/plain": [
       "{1, 2, 3, 4, 7, 8, 9, 10}"
      ]
     },
     "execution_count": 12,
     "metadata": {},
     "output_type": "execute_result"
    }
   ],
   "source": [
    "s1 = set([1, 2, 3, 4, 5, 6, 7, 8, 9, 10])\n",
    "\n",
    "s1.remove(5)\n",
    "s1.remove(6)\n",
    "s1"
   ]
  },
  {
   "cell_type": "code",
   "execution_count": 13,
   "id": "7e6e20d7",
   "metadata": {},
   "outputs": [
    {
     "data": {
      "text/plain": [
       "{1, 2, 3, 4, 7, 8, 9, 10}"
      ]
     },
     "execution_count": 13,
     "metadata": {},
     "output_type": "execute_result"
    }
   ],
   "source": [
    "s1 = set([1, 2, 3, 4, 5, 6, 7, 8, 9, 10])\n",
    "\n",
    "s1.discard(5)\n",
    "s1.discard(6)\n",
    "s1.discard(-1000)\n",
    "s1"
   ]
  },
  {
   "cell_type": "markdown",
   "id": "d650a173",
   "metadata": {},
   "source": [
    "## set operations"
   ]
  },
  {
   "cell_type": "code",
   "execution_count": 14,
   "id": "452f43f6",
   "metadata": {
    "scrolled": true
   },
   "outputs": [
    {
     "name": "stdout",
     "output_type": "stream",
     "text": [
      "{1, 2, 3, 4, 5, 6, 7, 8, 9}\n",
      "{4, 5, 6}\n",
      "{1, 2, 3}\n",
      "{8, 9, 7}\n",
      "{1, 2, 3, 7, 8, 9}\n"
     ]
    }
   ],
   "source": [
    "first = {1, 2, 3, 4, 5, 6}\n",
    "second = {4, 5, 6, 7, 8, 9}\n",
    "print(first | second) #{1, 2, 3, 4, 5, 6, 7, 8, 9}\n",
    "print(first & second) #{4, 5, 6}\n",
    "print(first - second) #{1, 2, 3}\n",
    "print(second - first) #{8, 9, 7}\n",
    "print(first ^ second) #{1, 2, 3, 7, 8, 9}"
   ]
  },
  {
   "cell_type": "markdown",
   "id": "118f2b3d",
   "metadata": {},
   "source": [
    "## Problem: Given 2 sentences, find and output the number of the common words"
   ]
  },
  {
   "cell_type": "code",
   "execution_count": 15,
   "id": "14ca8bc4",
   "metadata": {},
   "outputs": [
    {
     "name": "stdout",
     "output_type": "stream",
     "text": [
      "{'how', 'are', '?', 'you', 'hi,'}\n",
      "{'are', '?', 'fine', 'you', 'hi,'}\n",
      "4\n"
     ]
    }
   ],
   "source": [
    "s1 = 'hi, how are you ?'\n",
    "s2 = 'hi, are you fine ?'\n",
    "set1=set(list(s1.split()))\n",
    "set2=set(list(s2.split()))\n",
    "\n",
    "print(set1)\n",
    "print(set2)\n",
    "\n",
    "print(len(set1 & set2))"
   ]
  },
  {
   "cell_type": "markdown",
   "id": "bbc193ae",
   "metadata": {},
   "source": [
    "# dictionary \n",
    "    holds key:value pair"
   ]
  },
  {
   "cell_type": "code",
   "execution_count": 16,
   "id": "25c59426",
   "metadata": {},
   "outputs": [
    {
     "data": {
      "text/plain": [
       "{'red': 1,\n",
       " 'black': 5,\n",
       " 'blue': -1,\n",
       " 'cream': 'A',\n",
       " 'orange': ['o', 'r', 'n', 'g']}"
      ]
     },
     "execution_count": 16,
     "metadata": {},
     "output_type": "execute_result"
    }
   ],
   "source": [
    "d1= {\n",
    "    'red':1,\n",
    "    'black':5,\n",
    "    'blue':-1,\n",
    "    'cream':'A',\n",
    "    'orange':['o','r','n','g']\n",
    "}\n",
    "d1"
   ]
  },
  {
   "cell_type": "code",
   "execution_count": 17,
   "id": "e3a4a38f",
   "metadata": {},
   "outputs": [
    {
     "name": "stdout",
     "output_type": "stream",
     "text": [
      "True\n",
      "False\n",
      "True\n"
     ]
    }
   ],
   "source": [
    "nums = {\n",
    "    1: \"one\",\n",
    "    2: \"two\",\n",
    "    3: \"three\",\n",
    "}\n",
    "print(1 in nums)  # searched for key\n",
    "print(\"three\" in nums) \n",
    "print(4 not in nums) "
   ]
  },
  {
   "cell_type": "code",
   "execution_count": 18,
   "id": "3d4eeb90",
   "metadata": {},
   "outputs": [
    {
     "data": {
      "text/plain": [
       "{1: 'one', 2: ['t', 'w', 'o'], 'three': 3}"
      ]
     },
     "execution_count": 18,
     "metadata": {},
     "output_type": "execute_result"
    }
   ],
   "source": [
    "d1=dict([\n",
    "        (1,'one'),\n",
    "        (2,['t','w','o']),\n",
    "        ('three',3)\n",
    "])\n",
    "d1"
   ]
  },
  {
   "cell_type": "markdown",
   "id": "c2979ef5",
   "metadata": {},
   "source": [
    "## adding elements\n",
    "    dict[Key] = Value"
   ]
  },
  {
   "cell_type": "code",
   "execution_count": 19,
   "id": "b3d769bd",
   "metadata": {},
   "outputs": [
    {
     "data": {
      "text/plain": [
       "{0: 1,\n",
       " 1: 'two',\n",
       " (1, 2, 3): [1, 2, 3],\n",
       " 'three': 3,\n",
       " 'vals': (-1, 0, 1),\n",
       " 'nested_dict': {1: 1, 2: 3, 3: 4}}"
      ]
     },
     "execution_count": 19,
     "metadata": {},
     "output_type": "execute_result"
    }
   ],
   "source": [
    "d={}\n",
    "\n",
    "d[0]=1\n",
    "d[1]='two'\n",
    "\n",
    "d[(1,2,3)]=[1,2,3]\n",
    "\n",
    "d['three']=3\n",
    "\n",
    "d['vals']=-1,0,1\n",
    "\n",
    "d['nested_dict'] = {1:1,2:3,3:4}\n",
    "\n",
    "d"
   ]
  },
  {
   "cell_type": "code",
   "execution_count": 20,
   "id": "f1798100",
   "metadata": {},
   "outputs": [
    {
     "data": {
      "text/plain": [
       "{0: 2,\n",
       " 1: 'two',\n",
       " (1, 2, 3): [1, 2, 3],\n",
       " 'three': 3,\n",
       " 'vals': (-1, 0, 1),\n",
       " 'nested_dict': {1: 1, 2: 3, 3: 4}}"
      ]
     },
     "execution_count": 20,
     "metadata": {},
     "output_type": "execute_result"
    }
   ],
   "source": [
    "d[0] = d[0] + 1\n",
    "d # update the value with new value"
   ]
  },
  {
   "cell_type": "markdown",
   "id": "5c7e72ae",
   "metadata": {},
   "source": [
    "## accessing element"
   ]
  },
  {
   "cell_type": "code",
   "execution_count": 21,
   "id": "0f2bf870",
   "metadata": {},
   "outputs": [
    {
     "data": {
      "text/plain": [
       "(-1, 0, 1)"
      ]
     },
     "execution_count": 21,
     "metadata": {},
     "output_type": "execute_result"
    }
   ],
   "source": [
    "d['vals']"
   ]
  },
  {
   "cell_type": "code",
   "execution_count": 22,
   "id": "46202c2d",
   "metadata": {},
   "outputs": [
    {
     "data": {
      "text/plain": [
       "{1: 1, 2: 3, 3: 4}"
      ]
     },
     "execution_count": 22,
     "metadata": {},
     "output_type": "execute_result"
    }
   ],
   "source": [
    "d['nested_dict']"
   ]
  },
  {
   "cell_type": "code",
   "execution_count": 23,
   "id": "e2242e13",
   "metadata": {},
   "outputs": [
    {
     "data": {
      "text/plain": [
       "[1, 2, 3]"
      ]
     },
     "execution_count": 23,
     "metadata": {},
     "output_type": "execute_result"
    }
   ],
   "source": [
    "d[(1,2,3)]"
   ]
  },
  {
   "cell_type": "markdown",
   "id": "23807acb",
   "metadata": {},
   "source": [
    "## get(key) return value"
   ]
  },
  {
   "cell_type": "code",
   "execution_count": 24,
   "id": "0e84a39f",
   "metadata": {},
   "outputs": [
    {
     "data": {
      "text/plain": [
       "[1, 2, 3]"
      ]
     },
     "execution_count": 24,
     "metadata": {},
     "output_type": "execute_result"
    }
   ],
   "source": [
    "d.get((1,2,3))"
   ]
  },
  {
   "cell_type": "code",
   "execution_count": 25,
   "id": "b1b8241a",
   "metadata": {},
   "outputs": [
    {
     "data": {
      "text/plain": [
       "(-1, 0, 1)"
      ]
     },
     "execution_count": 25,
     "metadata": {},
     "output_type": "execute_result"
    }
   ],
   "source": [
    "d.get('vals')"
   ]
  },
  {
   "cell_type": "code",
   "execution_count": 26,
   "id": "2acffdc7",
   "metadata": {},
   "outputs": [],
   "source": [
    "d.get('blck') # returns Null if element not found"
   ]
  },
  {
   "cell_type": "code",
   "execution_count": 27,
   "id": "22bbfb19",
   "metadata": {},
   "outputs": [
    {
     "data": {
      "text/plain": [
       "'Not found'"
      ]
     },
     "execution_count": 27,
     "metadata": {},
     "output_type": "execute_result"
    }
   ],
   "source": [
    "d.get('blck','Not found') # return 2nd parameter if not found"
   ]
  },
  {
   "cell_type": "code",
   "execution_count": 28,
   "id": "f3a58ffb",
   "metadata": {},
   "outputs": [
    {
     "name": "stdout",
     "output_type": "stream",
     "text": [
      "{0: 2, 1: 'two', (1, 2, 3): [1, 2, 3], 'three': 3, 'vals': (-1, 0, 1), 'nested_dict': {1: 1, 2: 3, 3: 4}}\n",
      "(-1, 0)\n",
      "3\n"
     ]
    }
   ],
   "source": [
    "print(d)\n",
    "\n",
    "print(d['vals'][:2])\n",
    "print(d['nested_dict'][2])"
   ]
  },
  {
   "cell_type": "markdown",
   "id": "90d94418",
   "metadata": {},
   "source": [
    "    keys() – Returns a list containing dictionary’s keys\n",
    "    values() – Returns a list of all the values of dictionary\n",
    "    items() – Returns a list containing a tuple for each key value pair\n",
    "    pop(key) – Remove the element with specified key\n",
    "    popitem() – Removes the last inserted key-value pair\n",
    "    clear() – Remove all the elements from the dictionary\n",
    "    update() – Updates dictionary with specified key-value pairs"
   ]
  },
  {
   "cell_type": "code",
   "execution_count": 29,
   "id": "1ba2cb24",
   "metadata": {
    "scrolled": false
   },
   "outputs": [
    {
     "data": {
      "text/plain": [
       "dict_keys([0, 1, (1, 2, 3), 'three', 'vals', 'nested_dict'])"
      ]
     },
     "execution_count": 29,
     "metadata": {},
     "output_type": "execute_result"
    }
   ],
   "source": [
    "d.keys()"
   ]
  },
  {
   "cell_type": "code",
   "execution_count": 30,
   "id": "bd27255c",
   "metadata": {},
   "outputs": [
    {
     "data": {
      "text/plain": [
       "dict_values([2, 'two', [1, 2, 3], 3, (-1, 0, 1), {1: 1, 2: 3, 3: 4}])"
      ]
     },
     "execution_count": 30,
     "metadata": {},
     "output_type": "execute_result"
    }
   ],
   "source": [
    "d.values()"
   ]
  },
  {
   "cell_type": "code",
   "execution_count": 31,
   "id": "f96d21bd",
   "metadata": {},
   "outputs": [
    {
     "data": {
      "text/plain": [
       "dict_items([(0, 2), (1, 'two'), ((1, 2, 3), [1, 2, 3]), ('three', 3), ('vals', (-1, 0, 1)), ('nested_dict', {1: 1, 2: 3, 3: 4})])"
      ]
     },
     "execution_count": 31,
     "metadata": {},
     "output_type": "execute_result"
    }
   ],
   "source": [
    "d.items()"
   ]
  },
  {
   "cell_type": "code",
   "execution_count": 32,
   "id": "d4c80802",
   "metadata": {},
   "outputs": [
    {
     "data": {
      "text/plain": [
       "('nested_dict', {1: 1, 2: 3, 3: 4})"
      ]
     },
     "execution_count": 32,
     "metadata": {},
     "output_type": "execute_result"
    }
   ],
   "source": [
    "d.popitem()"
   ]
  },
  {
   "cell_type": "code",
   "execution_count": 33,
   "id": "25e144d4",
   "metadata": {},
   "outputs": [
    {
     "name": "stdout",
     "output_type": "stream",
     "text": [
      "{0: 2, 1: 'two', (1, 2, 3): [1, 2, 3], 'three': 3, 'vals': (-1, 0, 1)}\n",
      "[1, 2, 3]\n",
      "{0: 2, 1: 'two', 'three': 3, 'vals': (-1, 0, 1)}\n"
     ]
    }
   ],
   "source": [
    "print(d)\n",
    "print(d.pop((1, 2, 3)))\n",
    "print(d)"
   ]
  },
  {
   "cell_type": "code",
   "execution_count": 34,
   "id": "4b46de44",
   "metadata": {},
   "outputs": [
    {
     "data": {
      "text/plain": [
       "{0: 2,\n",
       " 1: 'two',\n",
       " 'three': 3,\n",
       " 'vals': (-1, 0, 1),\n",
       " 'nested_dict': {1: 1, 2: 4, 3: 9}}"
      ]
     },
     "execution_count": 34,
     "metadata": {},
     "output_type": "execute_result"
    }
   ],
   "source": [
    "d.update({'nested_dict': {1:1,2:4,3:9}})\n",
    "d"
   ]
  },
  {
   "cell_type": "code",
   "execution_count": 35,
   "id": "000f04cb",
   "metadata": {},
   "outputs": [
    {
     "name": "stdout",
     "output_type": "stream",
     "text": [
      "0 2\n",
      "1 two\n",
      "three 3\n",
      "vals (-1, 0, 1)\n",
      "nested_dict {1: 1, 2: 4, 3: 9}\n"
     ]
    }
   ],
   "source": [
    "for item in d:\n",
    "    print(item, d[item])"
   ]
  }
 ],
 "metadata": {
  "kernelspec": {
   "display_name": "Python 3 (ipykernel)",
   "language": "python",
   "name": "python3"
  },
  "language_info": {
   "codemirror_mode": {
    "name": "ipython",
    "version": 3
   },
   "file_extension": ".py",
   "mimetype": "text/x-python",
   "name": "python",
   "nbconvert_exporter": "python",
   "pygments_lexer": "ipython3",
   "version": "3.9.13"
  }
 },
 "nbformat": 4,
 "nbformat_minor": 5
}
