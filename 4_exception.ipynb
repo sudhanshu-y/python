{
 "cells": [
  {
   "cell_type": "markdown",
   "id": "4c16bf84",
   "metadata": {},
   "source": [
    "# Exception\n",
    "    try:\n",
    "        # Code.... \n",
    "    except:\n",
    "        # optional block\n",
    "        # Handling of exception (if required)\n",
    "    else:\n",
    "        # execute if no exception\n",
    "    finally:\n",
    "        # Code..... (always executed)\n",
    "\n",
    "## common exceptions in Python\n",
    "\n",
    "    IndexError – index is not found in a sequence.\n",
    "    IndentationError – when indentation is not specified correctly.\n",
    "    ValueError – built-in function for a data type has the valid type of arguments, but the arguments have invalid values. \n",
    "    IOError – when an input/output operation fails.\n",
    "    ArithmeticError – when numeric calculations fail.\n",
    "    FloatingPointError – when a floating-point calculation fails.\n",
    "    AssertionError – when there is assert statement failure.\n",
    "    OverflowError – result of an arithmetic operation is too large and becomes machine unreadable. \n",
    "    TypeError – when an incorrect type of function or operation is applied to an object."
   ]
  },
  {
   "cell_type": "code",
   "execution_count": 1,
   "id": "d89346ce",
   "metadata": {
    "scrolled": false
   },
   "outputs": [
    {
     "name": "stdout",
     "output_type": "stream",
     "text": [
      "division by zero\n"
     ]
    }
   ],
   "source": [
    "try:\n",
    "    print(100/0)\n",
    "except ZeroDivisionError as e:\n",
    "    print(e)"
   ]
  },
  {
   "cell_type": "code",
   "execution_count": 2,
   "id": "5beeeb93",
   "metadata": {
    "scrolled": true
   },
   "outputs": [
    {
     "name": "stdout",
     "output_type": "stream",
     "text": [
      "list index out of range\n"
     ]
    }
   ],
   "source": [
    "l=[0,1]\n",
    "try:\n",
    "    print(l[5])\n",
    "except IndexError as e:\n",
    "    print(e)"
   ]
  },
  {
   "cell_type": "code",
   "execution_count": 3,
   "id": "7e4331a5",
   "metadata": {},
   "outputs": [
    {
     "name": "stdout",
     "output_type": "stream",
     "text": [
      "100.0\n",
      "No exception occured\n"
     ]
    }
   ],
   "source": [
    "try:\n",
    "    print(100/1)\n",
    "except:\n",
    "    print('Exception occured')\n",
    "else:\n",
    "    print('No exception occured')"
   ]
  },
  {
   "cell_type": "code",
   "execution_count": 4,
   "id": "2a7a6e3d",
   "metadata": {},
   "outputs": [
    {
     "name": "stdout",
     "output_type": "stream",
     "text": [
      "100.0\n",
      "No exception occured\n",
      "try-catch-else-finally COMPLETED\n"
     ]
    }
   ],
   "source": [
    "try:\n",
    "    print(100/1)\n",
    "except:\n",
    "    print('Exception occured')\n",
    "else:\n",
    "    print('No exception occured')\n",
    "finally:\n",
    "    print('try-catch-else-finally COMPLETED')"
   ]
  },
  {
   "cell_type": "code",
   "execution_count": 5,
   "id": "1a9c1448",
   "metadata": {},
   "outputs": [
    {
     "ename": "Exception",
     "evalue": "x should not exceed 5. The value of x was: 10",
     "output_type": "error",
     "traceback": [
      "\u001b[1;31m---------------------------------------------------------------------------\u001b[0m",
      "\u001b[1;31mException\u001b[0m                                 Traceback (most recent call last)",
      "\u001b[1;32m~\\AppData\\Local\\Temp\\ipykernel_5944\\1509933342.py\u001b[0m in \u001b[0;36m<module>\u001b[1;34m\u001b[0m\n\u001b[0;32m      2\u001b[0m \u001b[0mx\u001b[0m \u001b[1;33m=\u001b[0m \u001b[1;36m10\u001b[0m\u001b[1;33m\u001b[0m\u001b[1;33m\u001b[0m\u001b[0m\n\u001b[0;32m      3\u001b[0m \u001b[1;32mif\u001b[0m \u001b[0mx\u001b[0m \u001b[1;33m>\u001b[0m \u001b[1;36m5\u001b[0m\u001b[1;33m:\u001b[0m\u001b[1;33m\u001b[0m\u001b[1;33m\u001b[0m\u001b[0m\n\u001b[1;32m----> 4\u001b[1;33m     \u001b[1;32mraise\u001b[0m \u001b[0mException\u001b[0m\u001b[1;33m(\u001b[0m\u001b[1;34m\"x should not exceed 5. The value of x was: {}\"\u001b[0m\u001b[1;33m.\u001b[0m\u001b[0mformat\u001b[0m\u001b[1;33m(\u001b[0m\u001b[0mx\u001b[0m\u001b[1;33m)\u001b[0m\u001b[1;33m)\u001b[0m\u001b[1;33m\u001b[0m\u001b[1;33m\u001b[0m\u001b[0m\n\u001b[0m",
      "\u001b[1;31mException\u001b[0m: x should not exceed 5. The value of x was: 10"
     ]
    }
   ],
   "source": [
    "# Example of raising an exception\n",
    "x = 10\n",
    "if x > 5:\n",
    "    raise Exception(\"x should not exceed 5. The value of x was: {}\".format(x))"
   ]
  },
  {
   "cell_type": "markdown",
   "id": "8192f2c6",
   "metadata": {},
   "source": [
    "# Raising exception"
   ]
  },
  {
   "cell_type": "code",
   "execution_count": 6,
   "id": "5af06d9b",
   "metadata": {},
   "outputs": [
    {
     "name": "stdout",
     "output_type": "stream",
     "text": [
      "Exception occured :  Value is incorrect\n"
     ]
    }
   ],
   "source": [
    "try:\n",
    "    raise ValueError('Value is incorrect')\n",
    "except ValueError as e:\n",
    "    print('Exception occured : ',e)"
   ]
  },
  {
   "cell_type": "markdown",
   "id": "45507df8",
   "metadata": {},
   "source": [
    "# Define own exception class "
   ]
  },
  {
   "cell_type": "code",
   "execution_count": 7,
   "id": "e2c96c1f",
   "metadata": {},
   "outputs": [
    {
     "name": "stdout",
     "output_type": "stream",
     "text": [
      "Exception occuredFile not found\n"
     ]
    }
   ],
   "source": [
    "class FileNotFoundException(Exception):\n",
    "    def __init__(self, msg):\n",
    "        self.msg=msg\n",
    "\n",
    "try:\n",
    "    raise FileNotFoundException(\"File not found\")\n",
    "except FileNotFoundException as e:\n",
    "    print(\"Exception occured\"+ e.msg)"
   ]
  },
  {
   "cell_type": "code",
   "execution_count": null,
   "id": "05a5fcb7",
   "metadata": {},
   "outputs": [],
   "source": []
  }
 ],
 "metadata": {
  "kernelspec": {
   "display_name": "Python 3 (ipykernel)",
   "language": "python",
   "name": "python3"
  },
  "language_info": {
   "codemirror_mode": {
    "name": "ipython",
    "version": 3
   },
   "file_extension": ".py",
   "mimetype": "text/x-python",
   "name": "python",
   "nbconvert_exporter": "python",
   "pygments_lexer": "ipython3",
   "version": "3.9.13"
  }
 },
 "nbformat": 4,
 "nbformat_minor": 5
}
