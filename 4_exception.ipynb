{
 "cells": [
  {
   "cell_type": "markdown",
   "id": "4c16bf84",
   "metadata": {},
   "source": [
    "# Exception\n",
    "    try:\n",
    "        # Code.... \n",
    "    except:\n",
    "        # optional block\n",
    "        # Handling of exception (if required)\n",
    "    else:\n",
    "        # execute if no exception\n",
    "    finally:\n",
    "        # Code..... (always executed)\n",
    "\n",
    "## common exceptions in Python\n",
    "\n",
    "    IndexError – index is not found in a sequence.\n",
    "    IndentationError – when indentation is not specified correctly.\n",
    "    ValueError – built-in function for a data type has the valid type of arguments, but the arguments have invalid values. \n",
    "    IOError – when an input/output operation fails.\n",
    "    ArithmeticError – when numeric calculations fail.\n",
    "    FloatingPointError – when a floating-point calculation fails.\n",
    "    AssertionError – when there is assert statement failure.\n",
    "    OverflowError – result of an arithmetic operation is too large and becomes machine unreadable. \n",
    "    TypeError – when an incorrect type of function or operation is applied to an object."
   ]
  },
  {
   "cell_type": "code",
   "execution_count": 1,
   "id": "d89346ce",
   "metadata": {
    "scrolled": false
   },
   "outputs": [
    {
     "name": "stdout",
     "output_type": "stream",
     "text": [
      "division by zero\n"
     ]
    }
   ],
   "source": [
    "try:\n",
    "    print(100/0)\n",
    "except ZeroDivisionError as e:\n",
    "    print(e)"
   ]
  },
  {
   "cell_type": "code",
   "execution_count": 2,
   "id": "5beeeb93",
   "metadata": {
    "scrolled": true
   },
   "outputs": [
    {
     "name": "stdout",
     "output_type": "stream",
     "text": [
      "list index out of range\n"
     ]
    }
   ],
   "source": [
    "l=[0,1]\n",
    "try:\n",
    "    print(l[5])\n",
    "except IndexError as e:\n",
    "    print(e)"
   ]
  },
  {
   "cell_type": "code",
   "execution_count": 3,
   "id": "7e4331a5",
   "metadata": {},
   "outputs": [
    {
     "name": "stdout",
     "output_type": "stream",
     "text": [
      "100.0\n",
      "No exception occured\n"
     ]
    }
   ],
   "source": [
    "try:\n",
    "    print(100/1)\n",
    "except:\n",
    "    print('Exception occured')\n",
    "else:\n",
    "    print('No exception occured')"
   ]
  },
  {
   "cell_type": "code",
   "execution_count": 4,
   "id": "2a7a6e3d",
   "metadata": {},
   "outputs": [
    {
     "name": "stdout",
     "output_type": "stream",
     "text": [
      "100.0\n",
      "No exception occured\n",
      "try-catch-else-finally COMPLETED\n"
     ]
    }
   ],
   "source": [
    "try:\n",
    "    print(100/1)\n",
    "except:\n",
    "    print('Exception occured')\n",
    "else:\n",
    "    print('No exception occured')\n",
    "finally:\n",
    "    print('try-catch-else-finally COMPLETED')"
   ]
  },
  {
   "cell_type": "markdown",
   "id": "8192f2c6",
   "metadata": {},
   "source": [
    "# Raising exception"
   ]
  },
  {
   "cell_type": "code",
   "execution_count": 5,
   "id": "5af06d9b",
   "metadata": {},
   "outputs": [
    {
     "name": "stdout",
     "output_type": "stream",
     "text": [
      "Exception occured :  Value is incorrect\n"
     ]
    }
   ],
   "source": [
    "try:\n",
    "    raise ValueError('Value is incorrect')\n",
    "except ValueError as e:\n",
    "    print('Exception occured : ',e)"
   ]
  },
  {
   "cell_type": "code",
   "execution_count": null,
   "id": "d4d0786f",
   "metadata": {},
   "outputs": [],
   "source": []
  },
  {
   "cell_type": "code",
   "execution_count": null,
   "id": "e2c96c1f",
   "metadata": {},
   "outputs": [],
   "source": []
  },
  {
   "cell_type": "code",
   "execution_count": null,
   "id": "28eb74b1",
   "metadata": {},
   "outputs": [],
   "source": []
  }
 ],
 "metadata": {
  "kernelspec": {
   "display_name": "Python 3 (ipykernel)",
   "language": "python",
   "name": "python3"
  },
  "language_info": {
   "codemirror_mode": {
    "name": "ipython",
    "version": 3
   },
   "file_extension": ".py",
   "mimetype": "text/x-python",
   "name": "python",
   "nbconvert_exporter": "python",
   "pygments_lexer": "ipython3",
   "version": "3.9.13"
  }
 },
 "nbformat": 4,
 "nbformat_minor": 5
}
