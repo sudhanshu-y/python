{
 "cells": [
  {
   "cell_type": "markdown",
   "id": "568cd707",
   "metadata": {},
   "source": [
    "# list"
   ]
  },
  {
   "cell_type": "code",
   "execution_count": 1,
   "id": "6f34cb69",
   "metadata": {},
   "outputs": [
    {
     "name": "stdout",
     "output_type": "stream",
     "text": [
      "[]\n",
      "[3, 4, 6]\n",
      "['black', 'brown', 'red']\n",
      "['a', 2, 4.57, 'black']\n",
      "['a', 2, 4.57, 'black', 'a', 2, 4.57, 'black', 'a', 2, 4.57, 'black']\n",
      "['red', 'red', 'red']\n"
     ]
    }
   ],
   "source": [
    "l=[]\n",
    "print(l)\n",
    "\n",
    "l1=[3,4,6]\n",
    "print(l1)\n",
    "\n",
    "l2=['black','brown','red']\n",
    "print(l2)\n",
    "\n",
    "l3= ['a',2,4.57,'black']\n",
    "print(l3)\n",
    "\n",
    "l4 = l3*3\n",
    "print(l4)\n",
    "\n",
    "l5 = ['red']*3\n",
    "print(l5)"
   ]
  },
  {
   "cell_type": "code",
   "execution_count": 2,
   "id": "97b5ec93",
   "metadata": {},
   "outputs": [
    {
     "name": "stdout",
     "output_type": "stream",
     "text": [
      "4\n",
      "6\n",
      "[2, 4.57, 'black']\n",
      "[4.57, 'black']\n",
      "['black', 'brown', 'red']\n"
     ]
    }
   ],
   "source": [
    "# Accessing elements\n",
    "print(l1[1])\n",
    "print(l1[-1])\n",
    "print(l3[1:])\n",
    "print(l3[-2:])\n",
    "print(l2[:])"
   ]
  },
  {
   "cell_type": "code",
   "execution_count": 3,
   "id": "7da807ec",
   "metadata": {},
   "outputs": [
    {
     "data": {
      "text/plain": [
       "4"
      ]
     },
     "execution_count": 3,
     "metadata": {},
     "output_type": "execute_result"
    }
   ],
   "source": [
    "len(l3)"
   ]
  },
  {
   "cell_type": "code",
   "execution_count": 4,
   "id": "0f882c53",
   "metadata": {},
   "outputs": [
    {
     "name": "stdout",
     "output_type": "stream",
     "text": [
      "True\n",
      "True\n",
      "False\n"
     ]
    }
   ],
   "source": [
    "words = [\"spam\", \"egg\", \"spam\", \"sausage\"]\n",
    "print(\"spam\" in words)\n",
    "print(\"egg\" in words)\n",
    "print(\"tomato\" in words)"
   ]
  },
  {
   "cell_type": "code",
   "execution_count": 5,
   "id": "75f4a543",
   "metadata": {},
   "outputs": [
    {
     "name": "stdout",
     "output_type": "stream",
     "text": [
      "35\n",
      "4\n",
      "83\n"
     ]
    }
   ],
   "source": [
    "l=[32,35,12,4]\n",
    "print(max(l))\n",
    "print(min(l))\n",
    "print(sum(l))"
   ]
  },
  {
   "cell_type": "markdown",
   "id": "86343bd8",
   "metadata": {},
   "source": [
    "## all, any, enumerate"
   ]
  },
  {
   "cell_type": "code",
   "execution_count": 6,
   "id": "89c91cd0",
   "metadata": {},
   "outputs": [
    {
     "name": "stdout",
     "output_type": "stream",
     "text": [
      "All larger than 5\n",
      "At least one is even\n",
      "(0, 55)\n",
      "(1, 44)\n",
      "(2, 33)\n",
      "(3, 22)\n",
      "(4, 11)\n"
     ]
    }
   ],
   "source": [
    "nums = [55, 44, 33, 22, 11]\n",
    "if all([i > 5 for i in nums]):\n",
    "    print(\"All larger than 5\")\n",
    "if any([i % 2 == 0 for i in nums]):\n",
    "    print(\"At least one is even\")\n",
    "for v in enumerate(nums):\n",
    "    print(v)"
   ]
  },
  {
   "cell_type": "markdown",
   "id": "ba7efe8c",
   "metadata": {},
   "source": [
    "## Multi dimentional list"
   ]
  },
  {
   "cell_type": "code",
   "execution_count": 7,
   "id": "c8edd6f6",
   "metadata": {},
   "outputs": [
    {
     "name": "stdout",
     "output_type": "stream",
     "text": [
      "['red', 'black']\n",
      "[2, 3]\n",
      "2\n",
      "3\n",
      "2\n"
     ]
    }
   ],
   "source": [
    "l = [\n",
    "    [1,2,3],\n",
    "    ['red','black']\n",
    "]\n",
    "\n",
    "print(l[1])\n",
    "print(l[0][1:])\n",
    "\n",
    "print(len(l))\n",
    "print(len(l[0]))\n",
    "print(len(l[1]))"
   ]
  },
  {
   "cell_type": "markdown",
   "id": "829020ce",
   "metadata": {},
   "source": [
    "# User input as list"
   ]
  },
  {
   "cell_type": "code",
   "execution_count": 8,
   "id": "daf5751d",
   "metadata": {},
   "outputs": [
    {
     "name": "stdout",
     "output_type": "stream",
     "text": [
      "Enter int elements: 12 323 35 75 12 323 35 75\n"
     ]
    },
    {
     "data": {
      "text/plain": [
       "[12, 323, 35, 75, 12, 323, 35, 75]"
      ]
     },
     "execution_count": 8,
     "metadata": {},
     "output_type": "execute_result"
    }
   ],
   "source": [
    "int_arr = list(map(int,input('Enter int elements: ').split()))\n",
    "int_arr"
   ]
  },
  {
   "cell_type": "code",
   "execution_count": 9,
   "id": "00245071",
   "metadata": {},
   "outputs": [
    {
     "name": "stdout",
     "output_type": "stream",
     "text": [
      "Enter int elements: 12 323 35 75 12 323 35 75\n"
     ]
    },
    {
     "data": {
      "text/plain": [
       "[12, 323, 35, 75, 12]"
      ]
     },
     "execution_count": 9,
     "metadata": {},
     "output_type": "execute_result"
    }
   ],
   "source": [
    "n=5\n",
    "\n",
    "# taking only limited inputs into array\n",
    "int_arr1 = list(map(int,input('Enter int elements: ').split()))[:n]\n",
    "int_arr1"
   ]
  },
  {
   "cell_type": "code",
   "execution_count": 10,
   "id": "e179443a",
   "metadata": {},
   "outputs": [
    {
     "name": "stdout",
     "output_type": "stream",
     "text": [
      "Enter int elements: black red blue\n"
     ]
    },
    {
     "data": {
      "text/plain": [
       "['black', 'red', 'blue']"
      ]
     },
     "execution_count": 10,
     "metadata": {},
     "output_type": "execute_result"
    }
   ],
   "source": [
    "str_arr = list(input('Enter int elements: ').split())\n",
    "str_arr"
   ]
  },
  {
   "cell_type": "markdown",
   "id": "420c2666",
   "metadata": {},
   "source": [
    "# adding/inserting element into list"
   ]
  },
  {
   "cell_type": "code",
   "execution_count": 11,
   "id": "6755a279",
   "metadata": {},
   "outputs": [
    {
     "data": {
      "text/plain": [
       "[32, 75, 'Anshu', [-1, 0, 1]]"
      ]
     },
     "execution_count": 11,
     "metadata": {},
     "output_type": "execute_result"
    }
   ],
   "source": [
    "l=[]\n",
    "\n",
    "l.append(32)\n",
    "l.append(75)\n",
    "l.append('Anshu')\n",
    "l.append([-1,0,1])\n",
    "\n",
    "l"
   ]
  },
  {
   "cell_type": "code",
   "execution_count": 12,
   "id": "1bcb0ba5",
   "metadata": {},
   "outputs": [
    {
     "data": {
      "text/plain": [
       "[32, 100, 75, 'Anshu', [-1, 0, 1]]"
      ]
     },
     "execution_count": 12,
     "metadata": {},
     "output_type": "execute_result"
    }
   ],
   "source": [
    "l.insert(1,100)\n",
    "l"
   ]
  },
  {
   "cell_type": "code",
   "execution_count": 13,
   "id": "30258444",
   "metadata": {},
   "outputs": [
    {
     "data": {
      "text/plain": [
       "[32, 100, ['lucy', 'jems'], 75, 'Anshu', [-1, 0, 1]]"
      ]
     },
     "execution_count": 13,
     "metadata": {},
     "output_type": "execute_result"
    }
   ],
   "source": [
    "l.insert(2,['lucy','jems'])\n",
    "l"
   ]
  },
  {
   "cell_type": "markdown",
   "id": "8b3a3192",
   "metadata": {},
   "source": [
    "# extend"
   ]
  },
  {
   "cell_type": "code",
   "execution_count": 14,
   "id": "ec1994a3",
   "metadata": {},
   "outputs": [
    {
     "data": {
      "text/plain": [
       "[1, 2, 3, 4, 5, 6, 7, 8, 9, 0]"
      ]
     },
     "execution_count": 14,
     "metadata": {},
     "output_type": "execute_result"
    }
   ],
   "source": [
    "l=[1,2,3,4,5]\n",
    "l2=[6,7,8,9,0]\n",
    "l.extend(l2)\n",
    "l"
   ]
  },
  {
   "cell_type": "code",
   "execution_count": 15,
   "id": "40cb7a37",
   "metadata": {},
   "outputs": [
    {
     "data": {
      "text/plain": [
       "[1, 2, 3, 4, 5, 6, 7, 8, 9, 0]"
      ]
     },
     "execution_count": 15,
     "metadata": {},
     "output_type": "execute_result"
    }
   ],
   "source": [
    "l=[1,2,3,4,5]\n",
    "l2=[6,7,8,9,0]\n",
    "l+=l2\n",
    "l"
   ]
  },
  {
   "cell_type": "markdown",
   "id": "571bf0b9",
   "metadata": {},
   "source": [
    "# reverse\n",
    "    [start : stop : steps] "
   ]
  },
  {
   "cell_type": "code",
   "execution_count": 16,
   "id": "cb552365",
   "metadata": {},
   "outputs": [
    {
     "name": "stdout",
     "output_type": "stream",
     "text": [
      "[0, 1, 2, 3, 4, 5, 6, 7, 8, 9]\n",
      "[9, 8, 7, 6, 5, 4, 3, 2, 1, 0]\n",
      "[0, 1, 2, 3, 4, 5, 6, 7, 8, 9]\n"
     ]
    }
   ],
   "source": [
    "l = [i for i in range(0,10)]\n",
    "print(l)\n",
    "\n",
    "l.reverse()\n",
    "print(l)\n",
    "\n",
    "l=l[::-1]\n",
    "print(l)"
   ]
  },
  {
   "cell_type": "markdown",
   "id": "fd7ff973",
   "metadata": {},
   "source": [
    "# remove(item)"
   ]
  },
  {
   "cell_type": "code",
   "execution_count": 17,
   "id": "2ec3c68d",
   "metadata": {},
   "outputs": [
    {
     "data": {
      "text/plain": [
       "[124, 224, 678, 44]"
      ]
     },
     "execution_count": 17,
     "metadata": {},
     "output_type": "execute_result"
    }
   ],
   "source": [
    "l= [124,224,413,678,44]\n",
    "l.remove(413)\n",
    "l"
   ]
  },
  {
   "cell_type": "code",
   "execution_count": 18,
   "id": "d2dffd81",
   "metadata": {},
   "outputs": [
    {
     "data": {
      "text/plain": [
       "[124, 224]"
      ]
     },
     "execution_count": 18,
     "metadata": {},
     "output_type": "execute_result"
    }
   ],
   "source": [
    "for item in l[2:]:\n",
    "    l.remove(item)\n",
    "l"
   ]
  },
  {
   "cell_type": "markdown",
   "id": "f3130f48",
   "metadata": {},
   "source": [
    "# pop() - remove last element \n",
    "# pop(i) - remove ith element "
   ]
  },
  {
   "cell_type": "code",
   "execution_count": 19,
   "id": "98c76aab",
   "metadata": {},
   "outputs": [
    {
     "name": "stdout",
     "output_type": "stream",
     "text": [
      "[124, 224, 413, 678, 44]\n",
      "44\n",
      "[124, 224, 413, 678]\n",
      "224\n",
      "[124, 413, 678]\n"
     ]
    }
   ],
   "source": [
    "l= [124,224,413,678,44]\n",
    "\n",
    "print(l)\n",
    "print(l.pop())\n",
    "print(l)\n",
    "\n",
    "print(l.pop(1))\n",
    "print(l)"
   ]
  },
  {
   "cell_type": "markdown",
   "id": "95a08d43",
   "metadata": {},
   "source": [
    "# clear()"
   ]
  },
  {
   "cell_type": "code",
   "execution_count": 20,
   "id": "7828e8e8",
   "metadata": {},
   "outputs": [
    {
     "name": "stdout",
     "output_type": "stream",
     "text": [
      "[]\n"
     ]
    }
   ],
   "source": [
    "l= [124,224,413,678,44]\n",
    "l.clear()\n",
    "print(l)"
   ]
  },
  {
   "cell_type": "markdown",
   "id": "70776584",
   "metadata": {},
   "source": [
    "# index(item)\n",
    "## if item not found, it will raise ValueError"
   ]
  },
  {
   "cell_type": "code",
   "execution_count": 21,
   "id": "ca714933",
   "metadata": {},
   "outputs": [
    {
     "name": "stdout",
     "output_type": "stream",
     "text": [
      "2\n"
     ]
    }
   ],
   "source": [
    "l= [124,224,413,678,44]\n",
    "\n",
    "print(l.index(413))"
   ]
  },
  {
   "cell_type": "markdown",
   "id": "fdceaf9f",
   "metadata": {},
   "source": [
    "# count(item)"
   ]
  },
  {
   "cell_type": "code",
   "execution_count": 22,
   "id": "42072458",
   "metadata": {},
   "outputs": [
    {
     "name": "stdout",
     "output_type": "stream",
     "text": [
      "4\n",
      "0\n"
     ]
    }
   ],
   "source": [
    "l= [44,33,44,33,22,33,44,44]\n",
    "print(l.count(44))\n",
    "print(l.count(55))"
   ]
  },
  {
   "cell_type": "markdown",
   "id": "85c5536e",
   "metadata": {},
   "source": [
    "# sort()"
   ]
  },
  {
   "cell_type": "code",
   "execution_count": 23,
   "id": "c30ae6d8",
   "metadata": {},
   "outputs": [
    {
     "name": "stdout",
     "output_type": "stream",
     "text": [
      "[22, 33, 33, 33, 44, 44, 44, 44]\n"
     ]
    }
   ],
   "source": [
    "l= [44,33,44,33,22,33,44,44]\n",
    "l.sort()\n",
    "print(l)"
   ]
  },
  {
   "cell_type": "markdown",
   "id": "dad9f30c",
   "metadata": {},
   "source": [
    "# join"
   ]
  },
  {
   "cell_type": "code",
   "execution_count": 24,
   "id": "dfc7cbcd",
   "metadata": {},
   "outputs": [
    {
     "name": "stdout",
     "output_type": "stream",
     "text": [
      "red black blue\n"
     ]
    }
   ],
   "source": [
    "list_str = ['red','black','blue']\n",
    "print(' '.join(list_str))"
   ]
  },
  {
   "cell_type": "code",
   "execution_count": 25,
   "id": "6522db23",
   "metadata": {},
   "outputs": [
    {
     "name": "stdout",
     "output_type": "stream",
     "text": [
      "11 22 33 44\n"
     ]
    }
   ],
   "source": [
    "list_int = [11,22,33,44]\n",
    "print(' '.join(map(str,list_int))) # join reuires element to be string"
   ]
  },
  {
   "cell_type": "markdown",
   "id": "4da0ccea",
   "metadata": {},
   "source": [
    "# list comprehensions"
   ]
  },
  {
   "cell_type": "markdown",
   "id": "8dfdd1ce",
   "metadata": {},
   "source": [
    "## Ex: Generate 25 odd squares\n",
    "### Note: list comprehensions are faster than equivalent for loop codes"
   ]
  },
  {
   "cell_type": "code",
   "execution_count": 26,
   "id": "c42d8e43",
   "metadata": {},
   "outputs": [
    {
     "data": {
      "text/plain": [
       "[1, 9, 25, 49, 81, 121, 169, 225, 289, 361, 441, 529]"
      ]
     },
     "execution_count": 26,
     "metadata": {},
     "output_type": "execute_result"
    }
   ],
   "source": [
    "odd_squers = [i**2 for i in range(0,25) if i%2!=0]\n",
    "odd_squers"
   ]
  },
  {
   "cell_type": "markdown",
   "id": "eabe14ce",
   "metadata": {},
   "source": [
    "### list comprehensions with lambda"
   ]
  },
  {
   "cell_type": "code",
   "execution_count": 27,
   "id": "89b37f43",
   "metadata": {},
   "outputs": [
    {
     "data": {
      "text/plain": [
       "[2, 5, 10, 17, 26, 37, 50, 65, 82, 101]"
      ]
     },
     "execution_count": 27,
     "metadata": {},
     "output_type": "execute_result"
    }
   ],
   "source": [
    "l = list(map(lambda x: x**2+2*x+2, [x for x in range(10)]))\n",
    "l"
   ]
  },
  {
   "cell_type": "markdown",
   "id": "fa42b67f",
   "metadata": {},
   "source": [
    "### Conditional list comprehensions"
   ]
  },
  {
   "cell_type": "code",
   "execution_count": 28,
   "id": "c008321e",
   "metadata": {},
   "outputs": [
    {
     "data": {
      "text/plain": [
       "['Even', 'Odd', 'Even', 'Odd', 'Even', 'Odd', 'Even', 'Odd', 'Even', 'Odd']"
      ]
     },
     "execution_count": 28,
     "metadata": {},
     "output_type": "execute_result"
    }
   ],
   "source": [
    "l = [\n",
    "    'Even' if i%2==0\n",
    "    else 'Odd'\n",
    "    for i in range(10)\n",
    "]\n",
    "\n",
    "l"
   ]
  },
  {
   "cell_type": "code",
   "execution_count": 29,
   "id": "7b5c8f1e",
   "metadata": {},
   "outputs": [
    {
     "data": {
      "text/plain": [
       "[0, 10, 20, 30, 40, 50, 60, 70, 80, 90, 100]"
      ]
     },
     "execution_count": 29,
     "metadata": {},
     "output_type": "execute_result"
    }
   ],
   "source": [
    "l = [i for i in range(101) if i%5==0 if i%10==0]\n",
    "l"
   ]
  },
  {
   "cell_type": "markdown",
   "id": "102cdf82",
   "metadata": {},
   "source": [
    "## Matrix using List"
   ]
  },
  {
   "cell_type": "code",
   "execution_count": 30,
   "id": "c920f7e6",
   "metadata": {},
   "outputs": [
    {
     "data": {
      "text/plain": [
       "[[0, 1, 2, 3],\n",
       " [0, 1, 2, 3],\n",
       " [0, 1, 2, 3],\n",
       " [0, 1, 2, 3],\n",
       " [0, 1, 2, 3],\n",
       " [0, 1, 2, 3]]"
      ]
     },
     "execution_count": 30,
     "metadata": {},
     "output_type": "execute_result"
    }
   ],
   "source": [
    "matrix = [\n",
    "    [i for i in range(4)] for i in range(6)\n",
    "]\n",
    "matrix"
   ]
  },
  {
   "cell_type": "code",
   "execution_count": 31,
   "id": "c7ba145c",
   "metadata": {},
   "outputs": [
    {
     "name": "stdout",
     "output_type": "stream",
     "text": [
      "6\n",
      "4\n"
     ]
    }
   ],
   "source": [
    "print(len(matrix))    # row\n",
    "print(len(matrix[0])) # column"
   ]
  },
  {
   "cell_type": "code",
   "execution_count": 32,
   "id": "3b2fe937",
   "metadata": {},
   "outputs": [
    {
     "name": "stdout",
     "output_type": "stream",
     "text": [
      "[0, 1, 2, 3]\n",
      "[0, 1, 2, 3]\n",
      "[0, 1, 2, 3]\n",
      "[0, 1, 2, 3]\n",
      "[0, 1, 2, 3]\n",
      "[0, 1, 2, 3]\n"
     ]
    }
   ],
   "source": [
    "for i in matrix:\n",
    "    print(i)"
   ]
  },
  {
   "cell_type": "code",
   "execution_count": 33,
   "id": "118c72d7",
   "metadata": {},
   "outputs": [
    {
     "data": {
      "text/plain": [
       "[[0, 0, 0, 0],\n",
       " [0, 1, 2, 3],\n",
       " [0, 2, 4, 6],\n",
       " [0, 3, 6, 9],\n",
       " [0, 4, 8, 12],\n",
       " [0, 5, 10, 15]]"
      ]
     },
     "execution_count": 33,
     "metadata": {},
     "output_type": "execute_result"
    }
   ],
   "source": [
    "matrix1 = []\n",
    "\n",
    "for i in range(6):\n",
    "    matrix1.append([])\n",
    "    for j in range(4):\n",
    "        matrix1[i].append(i*j)\n",
    "\n",
    "matrix1"
   ]
  },
  {
   "cell_type": "markdown",
   "id": "77ff0d17",
   "metadata": {},
   "source": [
    "# matrix trnaspose"
   ]
  },
  {
   "cell_type": "code",
   "execution_count": 34,
   "id": "395ead24",
   "metadata": {},
   "outputs": [
    {
     "data": {
      "text/plain": [
       "[[0, 0, 0, 0, 0, 0],\n",
       " [1, 1, 1, 1, 1, 1],\n",
       " [2, 2, 2, 2, 2, 2],\n",
       " [3, 3, 3, 3, 3, 3]]"
      ]
     },
     "execution_count": 34,
     "metadata": {},
     "output_type": "execute_result"
    }
   ],
   "source": [
    "matrix = [\n",
    "    [i for i in range(4)] for i in range(6)\n",
    "]\n",
    "\n",
    "matrixT = [\n",
    "    [j[i] for j in matrix]\n",
    "    for i in range(len(matrix[0]))\n",
    "]\n",
    "matrixT"
   ]
  },
  {
   "cell_type": "code",
   "execution_count": 35,
   "id": "47df5050",
   "metadata": {},
   "outputs": [
    {
     "data": {
      "text/plain": [
       "[[0, 0, 0, 0, 0, 0],\n",
       " [1, 1, 1, 1, 1, 1],\n",
       " [2, 2, 2, 2, 2, 2],\n",
       " [3, 3, 3, 3, 3, 3]]"
      ]
     },
     "execution_count": 35,
     "metadata": {},
     "output_type": "execute_result"
    }
   ],
   "source": [
    "A=[[0, 1, 2, 3],\n",
    " [0, 1, 2, 3],\n",
    " [0, 1, 2, 3],\n",
    " [0, 1, 2, 3],\n",
    " [0, 1, 2, 3],\n",
    " [0, 1, 2, 3]]\n",
    "\n",
    "AT=[]\n",
    "for i in range(len(A[0])):\n",
    "    AT.append([])\n",
    "    for j in range(len(A)):\n",
    "        AT[i].append(A[j][i])\n",
    "AT"
   ]
  },
  {
   "cell_type": "code",
   "execution_count": 36,
   "id": "2f9e99a2",
   "metadata": {},
   "outputs": [
    {
     "name": "stdout",
     "output_type": "stream",
     "text": [
      "[6, 6, 6, 6, 6, 6]\n",
      "[[0, 0, 0, 0, 0, 0], [1, 1, 1, 1, 1, 1], [2, 2, 2, 2, 2, 2], [3, 3, 3, 3, 3, 3]]\n",
      "[0, 6, 12, 18]\n"
     ]
    }
   ],
   "source": [
    "A=[[0, 1, 2, 3],\n",
    " [0, 1, 2, 3],\n",
    " [0, 1, 2, 3],\n",
    " [0, 1, 2, 3],\n",
    " [0, 1, 2, 3],\n",
    " [0, 1, 2, 3]]\n",
    "\n",
    "row_sum = [sum(i) for i in A]\n",
    "print(row_sum)\n",
    "\n",
    "AT = [\n",
    "    [j[i] for j in A]\n",
    "    for i in range(len(A[0]))\n",
    "]\n",
    "print(AT)\n",
    "\n",
    "col_sum = [sum(i) for i in AT]\n",
    "print(col_sum)"
   ]
  },
  {
   "cell_type": "code",
   "execution_count": null,
   "id": "0d74d933",
   "metadata": {},
   "outputs": [],
   "source": []
  },
  {
   "cell_type": "markdown",
   "id": "bdfc165b",
   "metadata": {},
   "source": [
    "# Python list codes"
   ]
  },
  {
   "cell_type": "markdown",
   "id": "b4200b6c",
   "metadata": {},
   "source": [
    "## print n element of fibonacci series"
   ]
  },
  {
   "cell_type": "code",
   "execution_count": 37,
   "id": "025aa39f",
   "metadata": {},
   "outputs": [
    {
     "name": "stdout",
     "output_type": "stream",
     "text": [
      "0 1 1 2 3 5 8 13 21 34\n"
     ]
    }
   ],
   "source": [
    "def febonacci_n(n):\n",
    "    l=[0,1]\n",
    "    for i in range(2,n):\n",
    "        l.append(l[i-1]+l[i-2])\n",
    "    print(' '.join(map(str,l)))\n",
    "\n",
    "febonacci_n(10)"
   ]
  },
  {
   "cell_type": "code",
   "execution_count": null,
   "id": "26cb0ca7",
   "metadata": {},
   "outputs": [],
   "source": []
  }
 ],
 "metadata": {
  "kernelspec": {
   "display_name": "Python 3 (ipykernel)",
   "language": "python",
   "name": "python3"
  },
  "language_info": {
   "codemirror_mode": {
    "name": "ipython",
    "version": 3
   },
   "file_extension": ".py",
   "mimetype": "text/x-python",
   "name": "python",
   "nbconvert_exporter": "python",
   "pygments_lexer": "ipython3",
   "version": "3.9.13"
  }
 },
 "nbformat": 4,
 "nbformat_minor": 5
}
