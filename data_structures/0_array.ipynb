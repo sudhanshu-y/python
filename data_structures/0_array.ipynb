{
 "cells": [
  {
   "cell_type": "markdown",
   "id": "8fc2b029",
   "metadata": {},
   "source": [
    "## program to reverse an array or string"
   ]
  },
  {
   "cell_type": "code",
   "execution_count": 1,
   "id": "bf384bec",
   "metadata": {},
   "outputs": [
    {
     "name": "stdout",
     "output_type": "stream",
     "text": [
      "[0, 1, 2, 3, 4, 5, 6, 7, 8, 9]\n",
      "[9, 8, 7, 6, 5, 4, 3, 2, 1, 0]\n",
      "[9, 8, 7, 6, 5, 4, 3, 2, 1, 0]\n",
      "[9, 8, 7, 6, 5, 4, 3, 2, 1, 0]\n",
      "[9, 8, 7, 6, 5, 4, 3, 2, 1, 0]\n",
      "[9, 8, 7, 6, 5, 4, 3, 2, 1, 0]\n"
     ]
    }
   ],
   "source": [
    "l=list(range(10))\n",
    "print(l)\n",
    "\n",
    "#1 by reverse operatot \n",
    "print(l[::-1])\n",
    "\n",
    "#2 by default reversed method\n",
    "l=list(range(10))\n",
    "print(list(reversed(l)))\n",
    "\n",
    "#3 reverse by sapping : O(n)\n",
    "l=list(range(10))\n",
    "\n",
    "def reverse_by_swap(l1):\n",
    "    start, end = 0, len(l1)-1\n",
    "    while start<end:\n",
    "        l1[start], l1[end] = l1[end], l1[start]\n",
    "        start+=1\n",
    "        end-=1\n",
    "    return l1\n",
    "print(reverse_by_swap(l))\n",
    "\n",
    "#4 by recursion \n",
    "l=list(range(10))\n",
    "def reversed_list(l, start, end):\n",
    "    if start>=end:\n",
    "        return\n",
    "    l[start], l[end] = l[end], l[start]\n",
    "    reversed_list(l, start+1, end-1)\n",
    "reversed_list(l, 0, len(l)-1)\n",
    "print(l)\n",
    "    \n",
    "\n",
    "#5 inbuilt sort method with reverse=True\n",
    "l=list(range(10))\n",
    "l.sort(reverse=True)\n",
    "print(l)"
   ]
  },
  {
   "cell_type": "markdown",
   "id": "ec9a4001",
   "metadata": {},
   "source": [
    "## Rotate array left k times in cyclic order "
   ]
  },
  {
   "cell_type": "code",
   "execution_count": 2,
   "id": "0b9a875e",
   "metadata": {},
   "outputs": [
    {
     "name": "stdout",
     "output_type": "stream",
     "text": [
      "[0, 1, 2, 3, 4, 5, 6, 7, 8, 9]\n",
      "[2, 3, 4, 5, 6, 7, 8, 9, 0, 1]\n",
      "9 0 1 2 3 4 5 6 7 8 \n"
     ]
    }
   ],
   "source": [
    "l=list(range(10))\n",
    "print(l)\n",
    "\n",
    "# Method 1: Time: O(n), Space: O(n)\n",
    "def rotate_ktimes(l1, k):\n",
    "    return l1[k:]+l1[:k]\n",
    "\n",
    "print(rotate_ktimes(l, 2))\n",
    "\n",
    "# Method 2: Only - Print - Time: O(n), Space: O(1)\n",
    "def rotate_ktimes_1(l1, k):\n",
    "    n = len(l1)\n",
    "    start_idx = k%n\n",
    "    for i in range(n):\n",
    "        print(l1[start_idx%n], end=\" \")\n",
    "        start_idx+=1\n",
    "    print()\n",
    "rotate_ktimes_1(l, 19)"
   ]
  },
  {
   "cell_type": "code",
   "execution_count": 3,
   "id": "4c4e8e70",
   "metadata": {},
   "outputs": [
    {
     "name": "stdout",
     "output_type": "stream",
     "text": [
      "[0, 1, 2, 3, 4, 5, 6, 7, 8, 9]\n"
     ]
    },
    {
     "data": {
      "text/plain": [
       "[2, 3, 4, 5, 6, 7, 8, 9, 0, 1]"
      ]
     },
     "execution_count": 3,
     "metadata": {},
     "output_type": "execute_result"
    }
   ],
   "source": [
    "l=list(range(10))\n",
    "print(l)\n",
    "\n",
    "def rotate_ktimes(l1, k):\n",
    "    return l1[k:]+l1[:k]\n",
    "\n",
    "rotate_ktimes(l, 2)"
   ]
  },
  {
   "cell_type": "markdown",
   "id": "3ffdff73",
   "metadata": {},
   "source": [
    "## Rotate array right k times in cyclic order"
   ]
  },
  {
   "cell_type": "code",
   "execution_count": 4,
   "id": "d5d6ab84",
   "metadata": {},
   "outputs": [
    {
     "name": "stdout",
     "output_type": "stream",
     "text": [
      "[0, 1, 2, 3, 4, 5, 6, 7, 8, 9]\n"
     ]
    },
    {
     "data": {
      "text/plain": [
       "[8, 9, 0, 1, 2, 3, 4, 5, 6, 7]"
      ]
     },
     "execution_count": 4,
     "metadata": {},
     "output_type": "execute_result"
    }
   ],
   "source": [
    "l=list(range(10))\n",
    "print(l)\n",
    "\n",
    "def rotate_ktimes(l1, k):\n",
    "    return l1[-k:]+l1[:-k]\n",
    "\n",
    "rotate_ktimes(l, 2)"
   ]
  },
  {
   "cell_type": "markdown",
   "id": "bb6eb1ef",
   "metadata": {},
   "source": [
    "## Generating all possible subarrays"
   ]
  },
  {
   "cell_type": "code",
   "execution_count": 5,
   "id": "f0b0248a",
   "metadata": {},
   "outputs": [
    {
     "name": "stdout",
     "output_type": "stream",
     "text": [
      "[0, 1, 2, 3, 4]\n",
      "[0]\n",
      "[0, 1]\n",
      "[0, 1, 2]\n",
      "[0, 1, 2, 3]\n",
      "[0, 1, 2, 3, 4]\n",
      "[1]\n",
      "[1, 2]\n",
      "[1, 2, 3]\n",
      "[1, 2, 3, 4]\n",
      "[2]\n",
      "[2, 3]\n",
      "[2, 3, 4]\n",
      "[3]\n",
      "[3, 4]\n",
      "[4]\n"
     ]
    }
   ],
   "source": [
    "l=list(range(5))\n",
    "print(l)\n",
    "\n",
    "for i in range(len(l)):\n",
    "    for j in range(i+1, len(l)+1):\n",
    "        print(l[i:j])"
   ]
  },
  {
   "cell_type": "markdown",
   "id": "f6e49a33",
   "metadata": {},
   "source": [
    "# Find 3 largest values in array"
   ]
  },
  {
   "cell_type": "code",
   "execution_count": 6,
   "id": "427a0277",
   "metadata": {},
   "outputs": [
    {
     "name": "stdout",
     "output_type": "stream",
     "text": [
      "[10, 5, 20, 15, 8, 25, 25, 20]\n",
      "[25, 20, 15]\n",
      "25 20 15\n"
     ]
    }
   ],
   "source": [
    "l=[10, 5, 20, 15, 8, 25, 25, 20]\n",
    "print(l)\n",
    "\n",
    "# Method 1: sorted - O(nlogn)\n",
    "print(sorted(set(l), reverse=True)[:3])\n",
    "\n",
    "# Method 2: O(n)\n",
    "l=[10, 5, 20, 15, 8, 25, 25, 20]\n",
    "min_l = min(l)-1 \n",
    "first, second, third = min_l, min_l, min_l\n",
    "for i in set(l):\n",
    "    if i > first:\n",
    "        third=second\n",
    "        second=first\n",
    "        first = i\n",
    "    elif i>second:\n",
    "        third=second\n",
    "        second=i\n",
    "    elif i>third:\n",
    "        third=i\n",
    "\n",
    "print(first, second, third)"
   ]
  },
  {
   "cell_type": "markdown",
   "id": "acbe6d49",
   "metadata": {},
   "source": [
    "## Find Second largest element in an array"
   ]
  },
  {
   "cell_type": "code",
   "execution_count": 7,
   "id": "23ce99ea",
   "metadata": {},
   "outputs": [
    {
     "name": "stdout",
     "output_type": "stream",
     "text": [
      "[10, 5, 20, 15, 8, 25, 25, 20]\n",
      "20\n",
      "20\n"
     ]
    }
   ],
   "source": [
    "l=[10, 5, 20, 15, 8, 25, 25, 20]\n",
    "print(l)\n",
    "\n",
    "# Method 1: O(n logn)\n",
    "print(sorted(set(l))[-2])\n",
    "\n",
    "# Method 2: O(n)\n",
    "l=[10, 5, 20, 15, 8, 25, 25, 20]\n",
    "min_l = min(l)-1\n",
    "first, second = min_l, min_l\n",
    "for i in set(l):\n",
    "    if i > first:\n",
    "        second=first\n",
    "        first=i\n",
    "    elif i> second:\n",
    "        second=i\n",
    "print(second)"
   ]
  },
  {
   "cell_type": "markdown",
   "id": "e73f9176",
   "metadata": {},
   "source": [
    "## Move all zeroes to end of array"
   ]
  },
  {
   "cell_type": "code",
   "execution_count": 8,
   "id": "b7944763",
   "metadata": {},
   "outputs": [
    {
     "name": "stdout",
     "output_type": "stream",
     "text": [
      "[0, 10, 0, 0, 0, 5, 20, 0, 15, 8, 25, 0, 25, 20, 0]\n",
      "[10, 5, 20, 15, 8, 25, 25, 20, 0, 0, 0, 0, 0, 0, 0]\n",
      "[10, 5, 20, 15, 8, 25, 25, 20, 0, 0, 0, 0, 0, 0, 0]\n"
     ]
    }
   ],
   "source": [
    "l=[0, 10, 0, 0, 0, 5, 20, 0, 15, 8, 25, 0, 25, 20, 0]\n",
    "print(l)\n",
    "\n",
    "# Method 1: If non-zero found then swap with zero - O(n)\n",
    "j=0\n",
    "for i in range(len(l)):\n",
    "    if l[i]!=0:\n",
    "        l[j], l[i] = l[i], l[j]\n",
    "        j+=1\n",
    "print(l)\n",
    "\n",
    "# Method 2: Using extra space - O(n)\n",
    "l=[0, 10, 0, 0, 0, 5, 20, 0, 15, 8, 25, 0, 25, 20, 0]\n",
    "\n",
    "non_zeros = [i for i in l if i!=0]\n",
    "zeros = [0 for i in l if i==0]\n",
    "\n",
    "new_l = non_zeros + zeros\n",
    "\n",
    "print(new_l)"
   ]
  },
  {
   "cell_type": "markdown",
   "id": "f8197095",
   "metadata": {},
   "source": [
    "## Sort an array in wave form\n",
    "    Given an unsorted array of integers, sort the array into a wave array. \n",
    "    An array arr[0..n-1] is sorted in wave form if:\n",
    "    arr[0] >= arr[1] <= arr[2] >= arr[3] <= arr[4] >= ….."
   ]
  },
  {
   "cell_type": "code",
   "execution_count": 9,
   "id": "9d77f5fc",
   "metadata": {},
   "outputs": [
    {
     "name": "stdout",
     "output_type": "stream",
     "text": [
      "[10, 5, 6, 3, 2, 20, 100, 80]\n",
      "[3, 2, 6, 5, 20, 10, 100, 80]\n",
      "[10, 5, 6, 3, 2, 20, 100, 80]\n",
      "[10, 5, 6, 2, 20, 3, 100, 80]\n"
     ]
    }
   ],
   "source": [
    "# Method 1: Sort and Swap each two elements from start - O(nlogn)\n",
    "arr = [10, 5, 6, 3, 2, 20, 100, 80]\n",
    "print(arr)\n",
    "\n",
    "arr.sort()\n",
    "for i in range(0,len(arr),2):\n",
    "    arr[i], arr[i+1] = arr[i+1], arr[i]\n",
    "print(arr)\n",
    "\n",
    "# Method 2: Swap current element with previous and next element if required - O(n) \n",
    "arr = [10, 5, 6, 3, 2, 20, 100, 80]\n",
    "print(arr)\n",
    "n=len(arr)\n",
    "\n",
    "for i in range(0,n,2):\n",
    "    # arr[1] <= arr[2] : if arr[1] > arr[2] ==> Swap\n",
    "    if i>0 and arr[i-1] > arr[i]:\n",
    "        arr[i], arr[i-1] = arr[i-1], arr[i]\n",
    "    \n",
    "    # arr[2] >= arr[3] : if arr[2] < arr[3] ==> Swap\n",
    "    if i<n-1 and arr[i] < arr[i+1]:\n",
    "        arr[i], arr[i+1] = arr[i+1], arr[i]\n",
    "\n",
    "print(arr)"
   ]
  },
  {
   "cell_type": "markdown",
   "id": "86422169",
   "metadata": {},
   "source": [
    "## Sort an array which contain 1 to n values\n",
    "\n",
    "Given an array which contain 1 to n element. \n",
    "The task is to sort this array in an efficient way and without replace with 1 to n numbers.\n",
    "\n",
    "    Input : arr[] = {10, 7, 9, 2, 8, 3, 5, 4, 6, 1};\n",
    "    Output : 1 2 3 4 5 6 7 8 9 10 \n",
    "\n",
    "**Cyclic Sort**\n",
    "\n",
    "    Cyclic sort is a sorting algorithm that works on a particular type of problem: when you have an array of n integers that are supposed to be in the range of 1 to n (inclusive)\n",
    "**Algorithm**\n",
    "\n",
    "    1) Iterate through the array from the first element to the last element.\n",
    "    2) For each element, if it is not in its correct index position (i.e., the index of the element is not equal to the element value minus 1), then swap it with the element at its correct index position.\n",
    "    3) Repeat step 2 until all the elements are in their correct positions."
   ]
  },
  {
   "cell_type": "code",
   "execution_count": 10,
   "id": "0ca06317",
   "metadata": {},
   "outputs": [
    {
     "name": "stdout",
     "output_type": "stream",
     "text": [
      "[10, 7, 9, 2, 8, 3, 5, 4, 6, 1]\n"
     ]
    },
    {
     "data": {
      "text/plain": [
       "[1, 2, 3, 4, 5, 6, 7, 8, 9, 10]"
      ]
     },
     "execution_count": 10,
     "metadata": {},
     "output_type": "execute_result"
    }
   ],
   "source": [
    "# Time Complexity : O(n)\n",
    "def cyclic_sort(l):\n",
    "    i=0\n",
    "    while i<len(l):\n",
    "        current = l[i]-1 # correct current position \n",
    "        \n",
    "        if l[current]!=l[i]:\n",
    "            l[current], l[i] = l[i], l[current]\n",
    "        else:\n",
    "            i+=1\n",
    "    return l\n",
    "\n",
    "l = [10, 7, 9, 2, 8, 3, 5, 4, 6, 1]\n",
    "print(l)\n",
    "cyclic_sort(l)"
   ]
  },
  {
   "cell_type": "code",
   "execution_count": null,
   "id": "7d7badfb",
   "metadata": {},
   "outputs": [],
   "source": []
  },
  {
   "cell_type": "code",
   "execution_count": null,
   "id": "ffd52deb",
   "metadata": {},
   "outputs": [],
   "source": []
  },
  {
   "cell_type": "code",
   "execution_count": null,
   "id": "27f12c38",
   "metadata": {},
   "outputs": [],
   "source": []
  },
  {
   "cell_type": "code",
   "execution_count": null,
   "id": "db40baab",
   "metadata": {},
   "outputs": [],
   "source": []
  },
  {
   "cell_type": "code",
   "execution_count": null,
   "id": "47cabe7d",
   "metadata": {},
   "outputs": [],
   "source": []
  },
  {
   "cell_type": "code",
   "execution_count": null,
   "id": "a3706ff5",
   "metadata": {},
   "outputs": [],
   "source": []
  },
  {
   "cell_type": "code",
   "execution_count": null,
   "id": "3e755b60",
   "metadata": {},
   "outputs": [],
   "source": []
  },
  {
   "cell_type": "code",
   "execution_count": null,
   "id": "886d3962",
   "metadata": {},
   "outputs": [],
   "source": []
  },
  {
   "cell_type": "code",
   "execution_count": null,
   "id": "9f4ce2d3",
   "metadata": {},
   "outputs": [],
   "source": []
  },
  {
   "cell_type": "code",
   "execution_count": null,
   "id": "3b2b8244",
   "metadata": {},
   "outputs": [],
   "source": []
  },
  {
   "cell_type": "code",
   "execution_count": null,
   "id": "01714d8f",
   "metadata": {},
   "outputs": [],
   "source": []
  }
 ],
 "metadata": {
  "kernelspec": {
   "display_name": "Python 3 (ipykernel)",
   "language": "python",
   "name": "python3"
  },
  "language_info": {
   "codemirror_mode": {
    "name": "ipython",
    "version": 3
   },
   "file_extension": ".py",
   "mimetype": "text/x-python",
   "name": "python",
   "nbconvert_exporter": "python",
   "pygments_lexer": "ipython3",
   "version": "3.9.13"
  }
 },
 "nbformat": 4,
 "nbformat_minor": 5
}
